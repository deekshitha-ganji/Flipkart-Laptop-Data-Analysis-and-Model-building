{
 "cells": [
  {
   "cell_type": "code",
   "execution_count": 1,
   "id": "340d5a9e",
   "metadata": {},
   "outputs": [],
   "source": [
    "import numpy as np\n",
    "import pandas as pd\n",
    "import seaborn as sns\n",
    "import re"
   ]
  },
  {
   "cell_type": "code",
   "execution_count": 2,
   "id": "7e238d22",
   "metadata": {},
   "outputs": [
    {
     "data": {
      "text/html": [
       "<div>\n",
       "<style scoped>\n",
       "    .dataframe tbody tr th:only-of-type {\n",
       "        vertical-align: middle;\n",
       "    }\n",
       "\n",
       "    .dataframe tbody tr th {\n",
       "        vertical-align: top;\n",
       "    }\n",
       "\n",
       "    .dataframe thead th {\n",
       "        text-align: right;\n",
       "    }\n",
       "</style>\n",
       "<table border=\"1\" class=\"dataframe\">\n",
       "  <thead>\n",
       "    <tr style=\"text-align: right;\">\n",
       "      <th></th>\n",
       "      <th>Product</th>\n",
       "      <th>Rating</th>\n",
       "      <th>MRP</th>\n",
       "      <th>Feature</th>\n",
       "    </tr>\n",
       "  </thead>\n",
       "  <tbody>\n",
       "    <tr>\n",
       "      <th>0</th>\n",
       "      <td>Lenovo IdeaPad 3 Core i3 11th Gen - (8 GB/256 ...</td>\n",
       "      <td>4.2</td>\n",
       "      <td>₹36,990</td>\n",
       "      <td>Intel Core i3 Processor (11th Gen)8 GB DDR4 RA...</td>\n",
       "    </tr>\n",
       "    <tr>\n",
       "      <th>1</th>\n",
       "      <td>Lenovo IdeaPad 3 Core i3 11th Gen - (8 GB/512 ...</td>\n",
       "      <td>4.2</td>\n",
       "      <td>₹39,990</td>\n",
       "      <td>Intel Core i3 Processor (11th Gen)8 GB DDR4 RA...</td>\n",
       "    </tr>\n",
       "    <tr>\n",
       "      <th>2</th>\n",
       "      <td>ASUS VivoBook 15 (2022) Core i3 10th Gen - (8 ...</td>\n",
       "      <td>4.3</td>\n",
       "      <td>₹32,990</td>\n",
       "      <td>Intel Core i3 Processor (10th Gen)8 GB DDR4 RA...</td>\n",
       "    </tr>\n",
       "    <tr>\n",
       "      <th>3</th>\n",
       "      <td>HP Pavilion Ryzen 5 Hexa Core AMD R5-5600H - (...</td>\n",
       "      <td>4.4</td>\n",
       "      <td>₹49,990</td>\n",
       "      <td>AMD Ryzen 5 Hexa Core Processor8 GB DDR4 RAM64...</td>\n",
       "    </tr>\n",
       "    <tr>\n",
       "      <th>4</th>\n",
       "      <td>ASUS TUF Gaming F15 Core i5 10th Gen - (8 GB/5...</td>\n",
       "      <td>4.4</td>\n",
       "      <td>₹49,990</td>\n",
       "      <td>Intel Core i5 Processor (10th Gen)8 GB DDR4 RA...</td>\n",
       "    </tr>\n",
       "    <tr>\n",
       "      <th>...</th>\n",
       "      <td>...</td>\n",
       "      <td>...</td>\n",
       "      <td>...</td>\n",
       "      <td>...</td>\n",
       "    </tr>\n",
       "    <tr>\n",
       "      <th>715</th>\n",
       "      <td>ASUS Chromebook Flip Touch Celeron Dual Core -...</td>\n",
       "      <td>4.0</td>\n",
       "      <td>₹23,490</td>\n",
       "      <td>Intel Celeron Dual Core Processor4 GB LPDDR4 R...</td>\n",
       "    </tr>\n",
       "    <tr>\n",
       "      <th>716</th>\n",
       "      <td>Lenovo IdeaPad Gaming 3 Ryzen 7 Octa Core AMD ...</td>\n",
       "      <td>4.5</td>\n",
       "      <td>₹73,490</td>\n",
       "      <td>AMD Ryzen 7 Octa Core Processor8 GB DDR4 RAM64...</td>\n",
       "    </tr>\n",
       "    <tr>\n",
       "      <th>717</th>\n",
       "      <td>ASUS ROG Zephyrus G15 Ryzen 9 Octa Core 6900HS...</td>\n",
       "      <td>NaN</td>\n",
       "      <td>₹1,94,990</td>\n",
       "      <td>AMD Ryzen 9 Octa Core Processor16 GB DDR5 RAM6...</td>\n",
       "    </tr>\n",
       "    <tr>\n",
       "      <th>718</th>\n",
       "      <td>ASUS Zenbook Flip 14 OLED (2022) Touch Panel C...</td>\n",
       "      <td>3.0</td>\n",
       "      <td>₹1,25,990</td>\n",
       "      <td>Intel Core i7 Processor (12th Gen)16 GB LPDDR5...</td>\n",
       "    </tr>\n",
       "    <tr>\n",
       "      <th>719</th>\n",
       "      <td>Lenovo Ideapad Slim 3i Core i5 10th Gen - (8 G...</td>\n",
       "      <td>4.2</td>\n",
       "      <td>₹50,990</td>\n",
       "      <td>Intel Core i5 Processor (10th Gen)8 GB DDR4 RA...</td>\n",
       "    </tr>\n",
       "  </tbody>\n",
       "</table>\n",
       "<p>720 rows × 4 columns</p>\n",
       "</div>"
      ],
      "text/plain": [
       "                                               Product  Rating        MRP  \\\n",
       "0    Lenovo IdeaPad 3 Core i3 11th Gen - (8 GB/256 ...     4.2    ₹36,990   \n",
       "1    Lenovo IdeaPad 3 Core i3 11th Gen - (8 GB/512 ...     4.2    ₹39,990   \n",
       "2    ASUS VivoBook 15 (2022) Core i3 10th Gen - (8 ...     4.3    ₹32,990   \n",
       "3    HP Pavilion Ryzen 5 Hexa Core AMD R5-5600H - (...     4.4    ₹49,990   \n",
       "4    ASUS TUF Gaming F15 Core i5 10th Gen - (8 GB/5...     4.4    ₹49,990   \n",
       "..                                                 ...     ...        ...   \n",
       "715  ASUS Chromebook Flip Touch Celeron Dual Core -...     4.0    ₹23,490   \n",
       "716  Lenovo IdeaPad Gaming 3 Ryzen 7 Octa Core AMD ...     4.5    ₹73,490   \n",
       "717  ASUS ROG Zephyrus G15 Ryzen 9 Octa Core 6900HS...     NaN  ₹1,94,990   \n",
       "718  ASUS Zenbook Flip 14 OLED (2022) Touch Panel C...     3.0  ₹1,25,990   \n",
       "719  Lenovo Ideapad Slim 3i Core i5 10th Gen - (8 G...     4.2    ₹50,990   \n",
       "\n",
       "                                               Feature  \n",
       "0    Intel Core i3 Processor (11th Gen)8 GB DDR4 RA...  \n",
       "1    Intel Core i3 Processor (11th Gen)8 GB DDR4 RA...  \n",
       "2    Intel Core i3 Processor (10th Gen)8 GB DDR4 RA...  \n",
       "3    AMD Ryzen 5 Hexa Core Processor8 GB DDR4 RAM64...  \n",
       "4    Intel Core i5 Processor (10th Gen)8 GB DDR4 RA...  \n",
       "..                                                 ...  \n",
       "715  Intel Celeron Dual Core Processor4 GB LPDDR4 R...  \n",
       "716  AMD Ryzen 7 Octa Core Processor8 GB DDR4 RAM64...  \n",
       "717  AMD Ryzen 9 Octa Core Processor16 GB DDR5 RAM6...  \n",
       "718  Intel Core i7 Processor (12th Gen)16 GB LPDDR5...  \n",
       "719  Intel Core i5 Processor (10th Gen)8 GB DDR4 RA...  \n",
       "\n",
       "[720 rows x 4 columns]"
      ]
     },
     "execution_count": 2,
     "metadata": {},
     "output_type": "execute_result"
    }
   ],
   "source": [
    "df = pd.read_csv(\"laptop_details.csv\")\n",
    "df"
   ]
  },
  {
   "cell_type": "code",
   "execution_count": 3,
   "id": "70305526",
   "metadata": {},
   "outputs": [
    {
     "name": "stdout",
     "output_type": "stream",
     "text": [
      "<class 'pandas.core.frame.DataFrame'>\n",
      "RangeIndex: 720 entries, 0 to 719\n",
      "Data columns (total 4 columns):\n",
      " #   Column   Non-Null Count  Dtype  \n",
      "---  ------   --------------  -----  \n",
      " 0   Product  720 non-null    object \n",
      " 1   Rating   581 non-null    float64\n",
      " 2   MRP      720 non-null    object \n",
      " 3   Feature  720 non-null    object \n",
      "dtypes: float64(1), object(3)\n",
      "memory usage: 22.6+ KB\n"
     ]
    }
   ],
   "source": [
    "df.info()"
   ]
  },
  {
   "cell_type": "code",
   "execution_count": 4,
   "id": "3c14e6cf",
   "metadata": {},
   "outputs": [
    {
     "data": {
      "text/plain": [
       "Index(['Product', 'Rating', 'MRP', 'Feature'], dtype='object')"
      ]
     },
     "execution_count": 4,
     "metadata": {},
     "output_type": "execute_result"
    }
   ],
   "source": [
    "df.columns"
   ]
  },
  {
   "cell_type": "code",
   "execution_count": 5,
   "id": "913ac925",
   "metadata": {},
   "outputs": [
    {
     "data": {
      "text/html": [
       "<div>\n",
       "<style scoped>\n",
       "    .dataframe tbody tr th:only-of-type {\n",
       "        vertical-align: middle;\n",
       "    }\n",
       "\n",
       "    .dataframe tbody tr th {\n",
       "        vertical-align: top;\n",
       "    }\n",
       "\n",
       "    .dataframe thead th {\n",
       "        text-align: right;\n",
       "    }\n",
       "</style>\n",
       "<table border=\"1\" class=\"dataframe\">\n",
       "  <thead>\n",
       "    <tr style=\"text-align: right;\">\n",
       "      <th></th>\n",
       "      <th>Product</th>\n",
       "      <th>Rating</th>\n",
       "      <th>MRP</th>\n",
       "      <th>Feature</th>\n",
       "    </tr>\n",
       "  </thead>\n",
       "  <tbody>\n",
       "    <tr>\n",
       "      <th>15</th>\n",
       "      <td>ASUS ROG Strix G15 (2022) with 90Whr Battery R...</td>\n",
       "      <td>NaN</td>\n",
       "      <td>₹1,96,990</td>\n",
       "      <td>AMD Ryzen 9 Octa Core Processor16 GB DDR5 RAMW...</td>\n",
       "    </tr>\n",
       "    <tr>\n",
       "      <th>27</th>\n",
       "      <td>ASUS ROG Strix G15 (2022) with 90Whr Battery R...</td>\n",
       "      <td>NaN</td>\n",
       "      <td>₹1,96,990</td>\n",
       "      <td>AMD Ryzen 9 Octa Core Processor16 GB DDR5 RAMW...</td>\n",
       "    </tr>\n",
       "    <tr>\n",
       "      <th>41</th>\n",
       "      <td>ASUS ROG Zephyrus G15 Ryzen 9 Octa Core 6900HS...</td>\n",
       "      <td>NaN</td>\n",
       "      <td>₹1,94,990</td>\n",
       "      <td>AMD Ryzen 9 Octa Core Processor16 GB DDR5 RAM6...</td>\n",
       "    </tr>\n",
       "    <tr>\n",
       "      <th>56</th>\n",
       "      <td>ASUS ROG Strix G15 (2022) with 90Whr Battery R...</td>\n",
       "      <td>NaN</td>\n",
       "      <td>₹1,96,990</td>\n",
       "      <td>AMD Ryzen 9 Octa Core Processor16 GB DDR5 RAMW...</td>\n",
       "    </tr>\n",
       "    <tr>\n",
       "      <th>70</th>\n",
       "      <td>ASUS ROG Zephyrus G15 Ryzen 9 Octa Core 6900HS...</td>\n",
       "      <td>NaN</td>\n",
       "      <td>₹1,94,990</td>\n",
       "      <td>AMD Ryzen 9 Octa Core Processor16 GB DDR5 RAM6...</td>\n",
       "    </tr>\n",
       "    <tr>\n",
       "      <th>...</th>\n",
       "      <td>...</td>\n",
       "      <td>...</td>\n",
       "      <td>...</td>\n",
       "      <td>...</td>\n",
       "    </tr>\n",
       "    <tr>\n",
       "      <th>705</th>\n",
       "      <td>ASUS ROG Flow X16 (2022) with 90Whr Battery Ry...</td>\n",
       "      <td>NaN</td>\n",
       "      <td>₹1,71,990</td>\n",
       "      <td>AMD Ryzen 7 Octa Core Processor16 GB DDR5 RAM6...</td>\n",
       "    </tr>\n",
       "    <tr>\n",
       "      <th>709</th>\n",
       "      <td>ASUS ROG Flow X13 (2022) Ryzen 9 Octa Core 690...</td>\n",
       "      <td>NaN</td>\n",
       "      <td>₹1,51,990</td>\n",
       "      <td>AMD Ryzen 9 Octa Core Processor16 GB LPDDR5 RA...</td>\n",
       "    </tr>\n",
       "    <tr>\n",
       "      <th>712</th>\n",
       "      <td>ASUS ExpertBook B9 Core i7 10th Gen - (16 GB/2...</td>\n",
       "      <td>NaN</td>\n",
       "      <td>₹2,33,990</td>\n",
       "      <td>Intel Core i7 Processor (10th Gen)16 GB LPDDR3...</td>\n",
       "    </tr>\n",
       "    <tr>\n",
       "      <th>713</th>\n",
       "      <td>DELL Core i5 12th Gen - (16 GB/512 GB SSD/Wind...</td>\n",
       "      <td>NaN</td>\n",
       "      <td>₹76,590</td>\n",
       "      <td>Intel Core i5 Processor (12th Gen)16 GB DDR5 R...</td>\n",
       "    </tr>\n",
       "    <tr>\n",
       "      <th>717</th>\n",
       "      <td>ASUS ROG Zephyrus G15 Ryzen 9 Octa Core 6900HS...</td>\n",
       "      <td>NaN</td>\n",
       "      <td>₹1,94,990</td>\n",
       "      <td>AMD Ryzen 9 Octa Core Processor16 GB DDR5 RAM6...</td>\n",
       "    </tr>\n",
       "  </tbody>\n",
       "</table>\n",
       "<p>139 rows × 4 columns</p>\n",
       "</div>"
      ],
      "text/plain": [
       "                                               Product  Rating        MRP  \\\n",
       "15   ASUS ROG Strix G15 (2022) with 90Whr Battery R...     NaN  ₹1,96,990   \n",
       "27   ASUS ROG Strix G15 (2022) with 90Whr Battery R...     NaN  ₹1,96,990   \n",
       "41   ASUS ROG Zephyrus G15 Ryzen 9 Octa Core 6900HS...     NaN  ₹1,94,990   \n",
       "56   ASUS ROG Strix G15 (2022) with 90Whr Battery R...     NaN  ₹1,96,990   \n",
       "70   ASUS ROG Zephyrus G15 Ryzen 9 Octa Core 6900HS...     NaN  ₹1,94,990   \n",
       "..                                                 ...     ...        ...   \n",
       "705  ASUS ROG Flow X16 (2022) with 90Whr Battery Ry...     NaN  ₹1,71,990   \n",
       "709  ASUS ROG Flow X13 (2022) Ryzen 9 Octa Core 690...     NaN  ₹1,51,990   \n",
       "712  ASUS ExpertBook B9 Core i7 10th Gen - (16 GB/2...     NaN  ₹2,33,990   \n",
       "713  DELL Core i5 12th Gen - (16 GB/512 GB SSD/Wind...     NaN    ₹76,590   \n",
       "717  ASUS ROG Zephyrus G15 Ryzen 9 Octa Core 6900HS...     NaN  ₹1,94,990   \n",
       "\n",
       "                                               Feature  \n",
       "15   AMD Ryzen 9 Octa Core Processor16 GB DDR5 RAMW...  \n",
       "27   AMD Ryzen 9 Octa Core Processor16 GB DDR5 RAMW...  \n",
       "41   AMD Ryzen 9 Octa Core Processor16 GB DDR5 RAM6...  \n",
       "56   AMD Ryzen 9 Octa Core Processor16 GB DDR5 RAMW...  \n",
       "70   AMD Ryzen 9 Octa Core Processor16 GB DDR5 RAM6...  \n",
       "..                                                 ...  \n",
       "705  AMD Ryzen 7 Octa Core Processor16 GB DDR5 RAM6...  \n",
       "709  AMD Ryzen 9 Octa Core Processor16 GB LPDDR5 RA...  \n",
       "712  Intel Core i7 Processor (10th Gen)16 GB LPDDR3...  \n",
       "713  Intel Core i5 Processor (12th Gen)16 GB DDR5 R...  \n",
       "717  AMD Ryzen 9 Octa Core Processor16 GB DDR5 RAM6...  \n",
       "\n",
       "[139 rows x 4 columns]"
      ]
     },
     "execution_count": 5,
     "metadata": {},
     "output_type": "execute_result"
    }
   ],
   "source": [
    "df[df.isnull().any(axis=1)]\n"
   ]
  },
  {
   "cell_type": "code",
   "execution_count": 6,
   "id": "9a710868",
   "metadata": {},
   "outputs": [
    {
     "data": {
      "text/plain": [
       "<Axes: >"
      ]
     },
     "execution_count": 6,
     "metadata": {},
     "output_type": "execute_result"
    },
    {
     "data": {
      "image/png": "[encoded data removed]",
      "text/plain": [
       "<Figure size 640x480 with 1 Axes>"
      ]
     },
     "metadata": {},
     "output_type": "display_data"
    }
   ],
   "source": [
    "sns.heatmap(df.isnull(), yticklabels=False,cbar=False,cmap=\"viridis\")"
   ]
  },
  {
   "cell_type": "code",
   "execution_count": 7,
   "id": "8928c15f",
   "metadata": {},
   "outputs": [
    {
     "data": {
      "text/plain": [
       "Product      0\n",
       "Rating     139\n",
       "MRP          0\n",
       "Feature      0\n",
       "dtype: int64"
      ]
     },
     "execution_count": 7,
     "metadata": {},
     "output_type": "execute_result"
    }
   ],
   "source": [
    "df.isnull().sum()"
   ]
  },
  {
   "cell_type": "code",
   "execution_count": 8,
   "id": "def610ee",
   "metadata": {},
   "outputs": [
    {
     "data": {
      "text/plain": [
       "Product     0.000000\n",
       "Rating     19.305556\n",
       "MRP         0.000000\n",
       "Feature     0.000000\n",
       "dtype: float64"
      ]
     },
     "execution_count": 8,
     "metadata": {},
     "output_type": "execute_result"
    }
   ],
   "source": [
    "missing_percentage = (df.isnull().sum() / len(df)) * 100\n",
    "missing_percentage"
   ]
  },
  {
   "cell_type": "code",
   "execution_count": 9,
   "id": "f799e6bd",
   "metadata": {},
   "outputs": [],
   "source": [
    "df.drop(\"Rating\", axis=1, inplace=True)\n"
   ]
  },
  {
   "cell_type": "code",
   "execution_count": 10,
   "id": "b30a84e6",
   "metadata": {},
   "outputs": [
    {
     "data": {
      "text/plain": [
       "299"
      ]
     },
     "execution_count": 10,
     "metadata": {},
     "output_type": "execute_result"
    }
   ],
   "source": [
    "df.duplicated().sum()"
   ]
  },
  {
   "cell_type": "code",
   "execution_count": 11,
   "id": "385d36db",
   "metadata": {},
   "outputs": [],
   "source": [
    "df = df.drop_duplicates()"
   ]
  },
  {
   "cell_type": "code",
   "execution_count": 12,
   "id": "cc9ed569",
   "metadata": {},
   "outputs": [
    {
     "data": {
      "text/plain": [
       "0"
      ]
     },
     "execution_count": 12,
     "metadata": {},
     "output_type": "execute_result"
    }
   ],
   "source": [
    "df.duplicated().sum()"
   ]
  },
  {
   "cell_type": "code",
   "execution_count": 13,
   "id": "ab4f8f41",
   "metadata": {},
   "outputs": [
    {
     "data": {
      "text/html": [
       "<div>\n",
       "<style scoped>\n",
       "    .dataframe tbody tr th:only-of-type {\n",
       "        vertical-align: middle;\n",
       "    }\n",
       "\n",
       "    .dataframe tbody tr th {\n",
       "        vertical-align: top;\n",
       "    }\n",
       "\n",
       "    .dataframe thead th {\n",
       "        text-align: right;\n",
       "    }\n",
       "</style>\n",
       "<table border=\"1\" class=\"dataframe\">\n",
       "  <thead>\n",
       "    <tr style=\"text-align: right;\">\n",
       "      <th></th>\n",
       "      <th>Product</th>\n",
       "      <th>MRP</th>\n",
       "      <th>Feature</th>\n",
       "    </tr>\n",
       "  </thead>\n",
       "  <tbody>\n",
       "    <tr>\n",
       "      <th>0</th>\n",
       "      <td>Lenovo IdeaPad 3 Core i3 11th Gen - (8 GB/256 ...</td>\n",
       "      <td>₹36,990</td>\n",
       "      <td>Intel Core i3 Processor (11th Gen)8 GB DDR4 RA...</td>\n",
       "    </tr>\n",
       "    <tr>\n",
       "      <th>1</th>\n",
       "      <td>Lenovo IdeaPad 3 Core i3 11th Gen - (8 GB/512 ...</td>\n",
       "      <td>₹39,990</td>\n",
       "      <td>Intel Core i3 Processor (11th Gen)8 GB DDR4 RA...</td>\n",
       "    </tr>\n",
       "    <tr>\n",
       "      <th>2</th>\n",
       "      <td>ASUS VivoBook 15 (2022) Core i3 10th Gen - (8 ...</td>\n",
       "      <td>₹32,990</td>\n",
       "      <td>Intel Core i3 Processor (10th Gen)8 GB DDR4 RA...</td>\n",
       "    </tr>\n",
       "    <tr>\n",
       "      <th>3</th>\n",
       "      <td>HP Pavilion Ryzen 5 Hexa Core AMD R5-5600H - (...</td>\n",
       "      <td>₹49,990</td>\n",
       "      <td>AMD Ryzen 5 Hexa Core Processor8 GB DDR4 RAM64...</td>\n",
       "    </tr>\n",
       "    <tr>\n",
       "      <th>4</th>\n",
       "      <td>ASUS TUF Gaming F15 Core i5 10th Gen - (8 GB/5...</td>\n",
       "      <td>₹49,990</td>\n",
       "      <td>Intel Core i5 Processor (10th Gen)8 GB DDR4 RA...</td>\n",
       "    </tr>\n",
       "    <tr>\n",
       "      <th>...</th>\n",
       "      <td>...</td>\n",
       "      <td>...</td>\n",
       "      <td>...</td>\n",
       "    </tr>\n",
       "    <tr>\n",
       "      <th>713</th>\n",
       "      <td>DELL Core i5 12th Gen - (16 GB/512 GB SSD/Wind...</td>\n",
       "      <td>₹76,590</td>\n",
       "      <td>Intel Core i5 Processor (12th Gen)16 GB DDR5 R...</td>\n",
       "    </tr>\n",
       "    <tr>\n",
       "      <th>714</th>\n",
       "      <td>HP Pavilion Ryzen 7 Octa Core AMD R7-5800H - (...</td>\n",
       "      <td>₹90,000</td>\n",
       "      <td>AMD Ryzen 7 Octa Core Processor16 GB DDR4 RAM6...</td>\n",
       "    </tr>\n",
       "    <tr>\n",
       "      <th>715</th>\n",
       "      <td>ASUS Chromebook Flip Touch Celeron Dual Core -...</td>\n",
       "      <td>₹23,490</td>\n",
       "      <td>Intel Celeron Dual Core Processor4 GB LPDDR4 R...</td>\n",
       "    </tr>\n",
       "    <tr>\n",
       "      <th>718</th>\n",
       "      <td>ASUS Zenbook Flip 14 OLED (2022) Touch Panel C...</td>\n",
       "      <td>₹1,25,990</td>\n",
       "      <td>Intel Core i7 Processor (12th Gen)16 GB LPDDR5...</td>\n",
       "    </tr>\n",
       "    <tr>\n",
       "      <th>719</th>\n",
       "      <td>Lenovo Ideapad Slim 3i Core i5 10th Gen - (8 G...</td>\n",
       "      <td>₹50,990</td>\n",
       "      <td>Intel Core i5 Processor (10th Gen)8 GB DDR4 RA...</td>\n",
       "    </tr>\n",
       "  </tbody>\n",
       "</table>\n",
       "<p>421 rows × 3 columns</p>\n",
       "</div>"
      ],
      "text/plain": [
       "                                               Product        MRP  \\\n",
       "0    Lenovo IdeaPad 3 Core i3 11th Gen - (8 GB/256 ...    ₹36,990   \n",
       "1    Lenovo IdeaPad 3 Core i3 11th Gen - (8 GB/512 ...    ₹39,990   \n",
       "2    ASUS VivoBook 15 (2022) Core i3 10th Gen - (8 ...    ₹32,990   \n",
       "3    HP Pavilion Ryzen 5 Hexa Core AMD R5-5600H - (...    ₹49,990   \n",
       "4    ASUS TUF Gaming F15 Core i5 10th Gen - (8 GB/5...    ₹49,990   \n",
       "..                                                 ...        ...   \n",
       "713  DELL Core i5 12th Gen - (16 GB/512 GB SSD/Wind...    ₹76,590   \n",
       "714  HP Pavilion Ryzen 7 Octa Core AMD R7-5800H - (...    ₹90,000   \n",
       "715  ASUS Chromebook Flip Touch Celeron Dual Core -...    ₹23,490   \n",
       "718  ASUS Zenbook Flip 14 OLED (2022) Touch Panel C...  ₹1,25,990   \n",
       "719  Lenovo Ideapad Slim 3i Core i5 10th Gen - (8 G...    ₹50,990   \n",
       "\n",
       "                                               Feature  \n",
       "0    Intel Core i3 Processor (11th Gen)8 GB DDR4 RA...  \n",
       "1    Intel Core i3 Processor (11th Gen)8 GB DDR4 RA...  \n",
       "2    Intel Core i3 Processor (10th Gen)8 GB DDR4 RA...  \n",
       "3    AMD Ryzen 5 Hexa Core Processor8 GB DDR4 RAM64...  \n",
       "4    Intel Core i5 Processor (10th Gen)8 GB DDR4 RA...  \n",
       "..                                                 ...  \n",
       "713  Intel Core i5 Processor (12th Gen)16 GB DDR5 R...  \n",
       "714  AMD Ryzen 7 Octa Core Processor16 GB DDR4 RAM6...  \n",
       "715  Intel Celeron Dual Core Processor4 GB LPDDR4 R...  \n",
       "718  Intel Core i7 Processor (12th Gen)16 GB LPDDR5...  \n",
       "719  Intel Core i5 Processor (10th Gen)8 GB DDR4 RA...  \n",
       "\n",
       "[421 rows x 3 columns]"
      ]
     },
     "execution_count": 13,
     "metadata": {},
     "output_type": "execute_result"
    }
   ],
   "source": [
    "df"
   ]
  },
  {
   "cell_type": "markdown",
   "id": "9e13302a",
   "metadata": {},
   "source": [
    "## Data Cleaning & Feature Extraction"
   ]
  },
  {
   "cell_type": "code",
   "execution_count": 14,
   "id": "aadad7bc",
   "metadata": {},
   "outputs": [
    {
     "name": "stderr",
     "output_type": "stream",
     "text": [
      "C:\\Users\\Deekshitha\\AppData\\Local\\Temp\\ipykernel_11692\\2140075593.py:1: SettingWithCopyWarning: \n",
      "A value is trying to be set on a copy of a slice from a DataFrame.\n",
      "Try using .loc[row_indexer,col_indexer] = value instead\n",
      "\n",
      "See the caveats in the documentation: https://pandas.pydata.org/pandas-docs/stable/user_guide/indexing.html#returning-a-view-versus-a-copy\n",
      "  df['Company'] = df['Product'].str.extract(r\"^(.+?)\\s\")\n",
      "C:\\Users\\Deekshitha\\AppData\\Local\\Temp\\ipykernel_11692\\2140075593.py:2: SettingWithCopyWarning: \n",
      "A value is trying to be set on a copy of a slice from a DataFrame.\n",
      "Try using .loc[row_indexer,col_indexer] = value instead\n",
      "\n",
      "See the caveats in the documentation: https://pandas.pydata.org/pandas-docs/stable/user_guide/indexing.html#returning-a-view-versus-a-copy\n",
      "  df['Processor'] = df['Feature'].str.extract(r'^(.*?)(?= Processor)')\n",
      "C:\\Users\\Deekshitha\\AppData\\Local\\Temp\\ipykernel_11692\\2140075593.py:3: SettingWithCopyWarning: \n",
      "A value is trying to be set on a copy of a slice from a DataFrame.\n",
      "Try using .loc[row_indexer,col_indexer] = value instead\n",
      "\n",
      "See the caveats in the documentation: https://pandas.pydata.org/pandas-docs/stable/user_guide/indexing.html#returning-a-view-versus-a-copy\n",
      "  df['RAM'] = df['Feature'].str.extract(r'(\\d+ GB [A-Za-z0-9\\s]+ RAM)')\n",
      "C:\\Users\\Deekshitha\\AppData\\Local\\Temp\\ipykernel_11692\\2140075593.py:4: SettingWithCopyWarning: \n",
      "A value is trying to be set on a copy of a slice from a DataFrame.\n",
      "Try using .loc[row_indexer,col_indexer] = value instead\n",
      "\n",
      "See the caveats in the documentation: https://pandas.pydata.org/pandas-docs/stable/user_guide/indexing.html#returning-a-view-versus-a-copy\n",
      "  df['OS'] = df['Feature'].str.extract(r'RAM(.*?)(?=Operating System)')\n",
      "C:\\Users\\Deekshitha\\AppData\\Local\\Temp\\ipykernel_11692\\2140075593.py:5: SettingWithCopyWarning: \n",
      "A value is trying to be set on a copy of a slice from a DataFrame.\n",
      "Try using .loc[row_indexer,col_indexer] = value instead\n",
      "\n",
      "See the caveats in the documentation: https://pandas.pydata.org/pandas-docs/stable/user_guide/indexing.html#returning-a-view-versus-a-copy\n",
      "  df['Storage_Size'] = df['Feature'].apply(lambda x: int(re.findall(r'\\d+', x.split('SSD')[0])[-1]) if \"SSD\" in x else int(re.findall(r'\\d+', x.split('SSD')[0])[-1]) * 1024 if \"TB\" and \"SSD\" in x else None)\n",
      "C:\\Users\\Deekshitha\\AppData\\Local\\Temp\\ipykernel_11692\\2140075593.py:6: SettingWithCopyWarning: \n",
      "A value is trying to be set on a copy of a slice from a DataFrame.\n",
      "Try using .loc[row_indexer,col_indexer] = value instead\n",
      "\n",
      "See the caveats in the documentation: https://pandas.pydata.org/pandas-docs/stable/user_guide/indexing.html#returning-a-view-versus-a-copy\n",
      "  df['Display'] = df['Feature'].str.extract(r'SSD(.*?)(?=Display)')\n",
      "C:\\Users\\Deekshitha\\AppData\\Local\\Temp\\ipykernel_11692\\2140075593.py:7: SettingWithCopyWarning: \n",
      "A value is trying to be set on a copy of a slice from a DataFrame.\n",
      "Try using .loc[row_indexer,col_indexer] = value instead\n",
      "\n",
      "See the caveats in the documentation: https://pandas.pydata.org/pandas-docs/stable/user_guide/indexing.html#returning-a-view-versus-a-copy\n",
      "  df['Warranty'] = df['Feature'].str.extract(r'Display(.*)', expand=False)\n",
      "C:\\Users\\Deekshitha\\AppData\\Local\\Temp\\ipykernel_11692\\2140075593.py:8: SettingWithCopyWarning: \n",
      "A value is trying to be set on a copy of a slice from a DataFrame.\n",
      "Try using .loc[row_indexer,col_indexer] = value instead\n",
      "\n",
      "See the caveats in the documentation: https://pandas.pydata.org/pandas-docs/stable/user_guide/indexing.html#returning-a-view-versus-a-copy\n",
      "  df[\"Storage_type\"] = df['Product'].apply(lambda x: \"SSD\" if 'SSD'in x else \"HDD\")\n"
     ]
    }
   ],
   "source": [
    "df['Company'] = df['Product'].str.extract(r\"^(.+?)\\s\")\n",
    "df['Processor'] = df['Feature'].str.extract(r'^(.*?)(?= Processor)')\n",
    "df['RAM'] = df['Feature'].str.extract(r'(\\d+ GB [A-Za-z0-9\\s]+ RAM)')\n",
    "df['OS'] = df['Feature'].str.extract(r'RAM(.*?)(?=Operating System)')\n",
    "df['Storage_Size'] = df['Feature'].apply(lambda x: int(re.findall(r'\\d+', x.split('SSD')[0])[-1]) if \"SSD\" in x else int(re.findall(r'\\d+', x.split('SSD')[0])[-1]) * 1024 if \"TB\" and \"SSD\" in x else None)\n",
    "df['Display'] = df['Feature'].str.extract(r'SSD(.*?)(?=Display)')\n",
    "df['Warranty'] = df['Feature'].str.extract(r'Display(.*)', expand=False)\n",
    "df[\"Storage_type\"] = df['Product'].apply(lambda x: \"SSD\" if 'SSD'in x else \"HDD\")\n"
   ]
  },
  {
   "cell_type": "code",
   "execution_count": 15,
   "id": "71f1ac7c",
   "metadata": {},
   "outputs": [
    {
     "name": "stderr",
     "output_type": "stream",
     "text": [
      "C:\\Users\\Deekshitha\\AppData\\Local\\Temp\\ipykernel_11692\\4065272237.py:1: SettingWithCopyWarning: \n",
      "A value is trying to be set on a copy of a slice from a DataFrame.\n",
      "Try using .loc[row_indexer,col_indexer] = value instead\n",
      "\n",
      "See the caveats in the documentation: https://pandas.pydata.org/pandas-docs/stable/user_guide/indexing.html#returning-a-view-versus-a-copy\n",
      "  df['Storage_Size'] = df['Feature'].apply(lambda x: int(re.findall(r'\\d+', x.split('SSD')[0])[-1]) if \"SSD\" in x else None)\n"
     ]
    }
   ],
   "source": [
    "df['Storage_Size'] = df['Feature'].apply(lambda x: int(re.findall(r'\\d+', x.split('SSD')[0])[-1]) if \"SSD\" in x else None)"
   ]
  },
  {
   "cell_type": "code",
   "execution_count": 16,
   "id": "5b1b1d52",
   "metadata": {},
   "outputs": [
    {
     "data": {
      "text/plain": [
       "0      256.0\n",
       "1      512.0\n",
       "2      512.0\n",
       "3      512.0\n",
       "4      512.0\n",
       "       ...  \n",
       "713    512.0\n",
       "714    512.0\n",
       "715      NaN\n",
       "718    512.0\n",
       "719    256.0\n",
       "Name: Storage_Size, Length: 421, dtype: float64"
      ]
     },
     "execution_count": 16,
     "metadata": {},
     "output_type": "execute_result"
    }
   ],
   "source": [
    "df['Storage_Size']"
   ]
  },
  {
   "cell_type": "code",
   "execution_count": 17,
   "id": "f1baaff4",
   "metadata": {},
   "outputs": [
    {
     "data": {
      "text/html": [
       "<div>\n",
       "<style scoped>\n",
       "    .dataframe tbody tr th:only-of-type {\n",
       "        vertical-align: middle;\n",
       "    }\n",
       "\n",
       "    .dataframe tbody tr th {\n",
       "        vertical-align: top;\n",
       "    }\n",
       "\n",
       "    .dataframe thead th {\n",
       "        text-align: right;\n",
       "    }\n",
       "</style>\n",
       "<table border=\"1\" class=\"dataframe\">\n",
       "  <thead>\n",
       "    <tr style=\"text-align: right;\">\n",
       "      <th></th>\n",
       "      <th>Product</th>\n",
       "      <th>MRP</th>\n",
       "      <th>Feature</th>\n",
       "      <th>Company</th>\n",
       "      <th>Processor</th>\n",
       "      <th>RAM</th>\n",
       "      <th>OS</th>\n",
       "      <th>Storage_Size</th>\n",
       "      <th>Display</th>\n",
       "      <th>Warranty</th>\n",
       "      <th>Storage_type</th>\n",
       "    </tr>\n",
       "  </thead>\n",
       "  <tbody>\n",
       "    <tr>\n",
       "      <th>0</th>\n",
       "      <td>Lenovo IdeaPad 3 Core i3 11th Gen - (8 GB/256 ...</td>\n",
       "      <td>₹36,990</td>\n",
       "      <td>Intel Core i3 Processor (11th Gen)8 GB DDR4 RA...</td>\n",
       "      <td>Lenovo</td>\n",
       "      <td>Intel Core i3</td>\n",
       "      <td>8 GB DDR4 RAM</td>\n",
       "      <td>64 bit Windows 11</td>\n",
       "      <td>256.0</td>\n",
       "      <td>35.56 cm (14 inch)</td>\n",
       "      <td>Office Home and Student 20212 Year Onsite�Warr...</td>\n",
       "      <td>SSD</td>\n",
       "    </tr>\n",
       "    <tr>\n",
       "      <th>1</th>\n",
       "      <td>Lenovo IdeaPad 3 Core i3 11th Gen - (8 GB/512 ...</td>\n",
       "      <td>₹39,990</td>\n",
       "      <td>Intel Core i3 Processor (11th Gen)8 GB DDR4 RA...</td>\n",
       "      <td>Lenovo</td>\n",
       "      <td>Intel Core i3</td>\n",
       "      <td>8 GB DDR4 RAM</td>\n",
       "      <td>64 bit Windows 11</td>\n",
       "      <td>512.0</td>\n",
       "      <td>39.62 cm (15.6 inch)</td>\n",
       "      <td>Office Home and Student 20212 Year Onsite�Warr...</td>\n",
       "      <td>SSD</td>\n",
       "    </tr>\n",
       "    <tr>\n",
       "      <th>2</th>\n",
       "      <td>ASUS VivoBook 15 (2022) Core i3 10th Gen - (8 ...</td>\n",
       "      <td>₹32,990</td>\n",
       "      <td>Intel Core i3 Processor (10th Gen)8 GB DDR4 RA...</td>\n",
       "      <td>ASUS</td>\n",
       "      <td>Intel Core i3</td>\n",
       "      <td>8 GB DDR4 RAM</td>\n",
       "      <td>64 bit Windows 11</td>\n",
       "      <td>512.0</td>\n",
       "      <td>39.62 cm (15.6 inch)</td>\n",
       "      <td>Office Home and Student 20211 Year Onsite Warr...</td>\n",
       "      <td>SSD</td>\n",
       "    </tr>\n",
       "    <tr>\n",
       "      <th>3</th>\n",
       "      <td>HP Pavilion Ryzen 5 Hexa Core AMD R5-5600H - (...</td>\n",
       "      <td>₹49,990</td>\n",
       "      <td>AMD Ryzen 5 Hexa Core Processor8 GB DDR4 RAM64...</td>\n",
       "      <td>HP</td>\n",
       "      <td>AMD Ryzen 5 Hexa Core</td>\n",
       "      <td>8 GB DDR4 RAM</td>\n",
       "      <td>64 bit Windows 10</td>\n",
       "      <td>512.0</td>\n",
       "      <td>39.62 cm (15.6 inch)</td>\n",
       "      <td>HP Documentation, HP e-service, HP BIOS Recove...</td>\n",
       "      <td>SSD</td>\n",
       "    </tr>\n",
       "    <tr>\n",
       "      <th>4</th>\n",
       "      <td>ASUS TUF Gaming F15 Core i5 10th Gen - (8 GB/5...</td>\n",
       "      <td>₹49,990</td>\n",
       "      <td>Intel Core i5 Processor (10th Gen)8 GB DDR4 RA...</td>\n",
       "      <td>ASUS</td>\n",
       "      <td>Intel Core i5</td>\n",
       "      <td>8 GB DDR4 RAM</td>\n",
       "      <td>Windows 11</td>\n",
       "      <td>512.0</td>\n",
       "      <td>39.62 cm (15.6 inch)</td>\n",
       "      <td>1 Year Onsite Warranty</td>\n",
       "      <td>SSD</td>\n",
       "    </tr>\n",
       "    <tr>\n",
       "      <th>...</th>\n",
       "      <td>...</td>\n",
       "      <td>...</td>\n",
       "      <td>...</td>\n",
       "      <td>...</td>\n",
       "      <td>...</td>\n",
       "      <td>...</td>\n",
       "      <td>...</td>\n",
       "      <td>...</td>\n",
       "      <td>...</td>\n",
       "      <td>...</td>\n",
       "      <td>...</td>\n",
       "    </tr>\n",
       "    <tr>\n",
       "      <th>713</th>\n",
       "      <td>DELL Core i5 12th Gen - (16 GB/512 GB SSD/Wind...</td>\n",
       "      <td>₹76,590</td>\n",
       "      <td>Intel Core i5 Processor (12th Gen)16 GB DDR5 R...</td>\n",
       "      <td>DELL</td>\n",
       "      <td>Intel Core i5</td>\n",
       "      <td>16 GB DDR5 RAM</td>\n",
       "      <td>64 bit Windows 11</td>\n",
       "      <td>512.0</td>\n",
       "      <td>33.78 cm (13.3 Inch)</td>\n",
       "      <td>1 Year Onsite Hardware Service</td>\n",
       "      <td>SSD</td>\n",
       "    </tr>\n",
       "    <tr>\n",
       "      <th>714</th>\n",
       "      <td>HP Pavilion Ryzen 7 Octa Core AMD R7-5800H - (...</td>\n",
       "      <td>₹90,000</td>\n",
       "      <td>AMD Ryzen 7 Octa Core Processor16 GB DDR4 RAM6...</td>\n",
       "      <td>HP</td>\n",
       "      <td>AMD Ryzen 7 Octa Core</td>\n",
       "      <td>16 GB DDR4 RAM</td>\n",
       "      <td>64 bit Windows 10</td>\n",
       "      <td>512.0</td>\n",
       "      <td>39.62 cm (15.6 inches)</td>\n",
       "      <td>HP Documentation, HP e-service, HP BIOS recove...</td>\n",
       "      <td>SSD</td>\n",
       "    </tr>\n",
       "    <tr>\n",
       "      <th>715</th>\n",
       "      <td>ASUS Chromebook Flip Touch Celeron Dual Core -...</td>\n",
       "      <td>₹23,490</td>\n",
       "      <td>Intel Celeron Dual Core Processor4 GB LPDDR4 R...</td>\n",
       "      <td>ASUS</td>\n",
       "      <td>Intel Celeron Dual Core</td>\n",
       "      <td>4 GB LPDDR4 RAM</td>\n",
       "      <td>Chrome</td>\n",
       "      <td>NaN</td>\n",
       "      <td>NaN</td>\n",
       "      <td>1 Year Onsite Warranty</td>\n",
       "      <td>HDD</td>\n",
       "    </tr>\n",
       "    <tr>\n",
       "      <th>718</th>\n",
       "      <td>ASUS Zenbook Flip 14 OLED (2022) Touch Panel C...</td>\n",
       "      <td>₹1,25,990</td>\n",
       "      <td>Intel Core i7 Processor (12th Gen)16 GB LPDDR5...</td>\n",
       "      <td>ASUS</td>\n",
       "      <td>Intel Core i7</td>\n",
       "      <td>16 GB LPDDR5 RAM</td>\n",
       "      <td>64 bit Windows 11</td>\n",
       "      <td>512.0</td>\n",
       "      <td>35.56 cm (14 inch) Touchscreen</td>\n",
       "      <td>1 Year Onsite Warranty</td>\n",
       "      <td>SSD</td>\n",
       "    </tr>\n",
       "    <tr>\n",
       "      <th>719</th>\n",
       "      <td>Lenovo Ideapad Slim 3i Core i5 10th Gen - (8 G...</td>\n",
       "      <td>₹50,990</td>\n",
       "      <td>Intel Core i5 Processor (10th Gen)8 GB DDR4 RA...</td>\n",
       "      <td>Lenovo</td>\n",
       "      <td>Intel Core i5</td>\n",
       "      <td>8 GB DDR4 RAM</td>\n",
       "      <td>64 bit Windows 10</td>\n",
       "      <td>256.0</td>\n",
       "      <td>39.62 cm (15.6 inch)</td>\n",
       "      <td>Microsoft Office Home and Student 20191 Year O...</td>\n",
       "      <td>SSD</td>\n",
       "    </tr>\n",
       "  </tbody>\n",
       "</table>\n",
       "<p>421 rows × 11 columns</p>\n",
       "</div>"
      ],
      "text/plain": [
       "                                               Product        MRP  \\\n",
       "0    Lenovo IdeaPad 3 Core i3 11th Gen - (8 GB/256 ...    ₹36,990   \n",
       "1    Lenovo IdeaPad 3 Core i3 11th Gen - (8 GB/512 ...    ₹39,990   \n",
       "2    ASUS VivoBook 15 (2022) Core i3 10th Gen - (8 ...    ₹32,990   \n",
       "3    HP Pavilion Ryzen 5 Hexa Core AMD R5-5600H - (...    ₹49,990   \n",
       "4    ASUS TUF Gaming F15 Core i5 10th Gen - (8 GB/5...    ₹49,990   \n",
       "..                                                 ...        ...   \n",
       "713  DELL Core i5 12th Gen - (16 GB/512 GB SSD/Wind...    ₹76,590   \n",
       "714  HP Pavilion Ryzen 7 Octa Core AMD R7-5800H - (...    ₹90,000   \n",
       "715  ASUS Chromebook Flip Touch Celeron Dual Core -...    ₹23,490   \n",
       "718  ASUS Zenbook Flip 14 OLED (2022) Touch Panel C...  ₹1,25,990   \n",
       "719  Lenovo Ideapad Slim 3i Core i5 10th Gen - (8 G...    ₹50,990   \n",
       "\n",
       "                                               Feature Company  \\\n",
       "0    Intel Core i3 Processor (11th Gen)8 GB DDR4 RA...  Lenovo   \n",
       "1    Intel Core i3 Processor (11th Gen)8 GB DDR4 RA...  Lenovo   \n",
       "2    Intel Core i3 Processor (10th Gen)8 GB DDR4 RA...    ASUS   \n",
       "3    AMD Ryzen 5 Hexa Core Processor8 GB DDR4 RAM64...      HP   \n",
       "4    Intel Core i5 Processor (10th Gen)8 GB DDR4 RA...    ASUS   \n",
       "..                                                 ...     ...   \n",
       "713  Intel Core i5 Processor (12th Gen)16 GB DDR5 R...    DELL   \n",
       "714  AMD Ryzen 7 Octa Core Processor16 GB DDR4 RAM6...      HP   \n",
       "715  Intel Celeron Dual Core Processor4 GB LPDDR4 R...    ASUS   \n",
       "718  Intel Core i7 Processor (12th Gen)16 GB LPDDR5...    ASUS   \n",
       "719  Intel Core i5 Processor (10th Gen)8 GB DDR4 RA...  Lenovo   \n",
       "\n",
       "                   Processor               RAM                  OS  \\\n",
       "0              Intel Core i3     8 GB DDR4 RAM  64 bit Windows 11    \n",
       "1              Intel Core i3     8 GB DDR4 RAM  64 bit Windows 11    \n",
       "2              Intel Core i3     8 GB DDR4 RAM  64 bit Windows 11    \n",
       "3      AMD Ryzen 5 Hexa Core     8 GB DDR4 RAM  64 bit Windows 10    \n",
       "4              Intel Core i5     8 GB DDR4 RAM         Windows 11    \n",
       "..                       ...               ...                 ...   \n",
       "713            Intel Core i5    16 GB DDR5 RAM  64 bit Windows 11    \n",
       "714    AMD Ryzen 7 Octa Core    16 GB DDR4 RAM  64 bit Windows 10    \n",
       "715  Intel Celeron Dual Core   4 GB LPDDR4 RAM             Chrome    \n",
       "718            Intel Core i7  16 GB LPDDR5 RAM  64 bit Windows 11    \n",
       "719            Intel Core i5     8 GB DDR4 RAM  64 bit Windows 10    \n",
       "\n",
       "     Storage_Size                          Display  \\\n",
       "0           256.0              35.56 cm (14 inch)    \n",
       "1           512.0            39.62 cm (15.6 inch)    \n",
       "2           512.0            39.62 cm (15.6 inch)    \n",
       "3           512.0            39.62 cm (15.6 inch)    \n",
       "4           512.0            39.62 cm (15.6 inch)    \n",
       "..            ...                              ...   \n",
       "713         512.0            33.78 cm (13.3 Inch)    \n",
       "714         512.0          39.62 cm (15.6 inches)    \n",
       "715           NaN                              NaN   \n",
       "718         512.0  35.56 cm (14 inch) Touchscreen    \n",
       "719         256.0            39.62 cm (15.6 inch)    \n",
       "\n",
       "                                              Warranty Storage_type  \n",
       "0    Office Home and Student 20212 Year Onsite�Warr...          SSD  \n",
       "1    Office Home and Student 20212 Year Onsite�Warr...          SSD  \n",
       "2    Office Home and Student 20211 Year Onsite Warr...          SSD  \n",
       "3    HP Documentation, HP e-service, HP BIOS Recove...          SSD  \n",
       "4                               1 Year Onsite Warranty          SSD  \n",
       "..                                                 ...          ...  \n",
       "713                     1 Year Onsite Hardware Service          SSD  \n",
       "714  HP Documentation, HP e-service, HP BIOS recove...          SSD  \n",
       "715                             1 Year Onsite Warranty          HDD  \n",
       "718                             1 Year Onsite Warranty          SSD  \n",
       "719  Microsoft Office Home and Student 20191 Year O...          SSD  \n",
       "\n",
       "[421 rows x 11 columns]"
      ]
     },
     "execution_count": 17,
     "metadata": {},
     "output_type": "execute_result"
    }
   ],
   "source": [
    "df"
   ]
  },
  {
   "cell_type": "code",
   "execution_count": 18,
   "id": "f064f7dc",
   "metadata": {},
   "outputs": [
    {
     "data": {
      "text/plain": [
       "array(['Lenovo', 'ASUS', 'HP', 'DELL', 'RedmiBook', 'realme', 'acer',\n",
       "       'MSI', 'APPLE', 'Infinix', 'SAMSUNG', 'Ultimus', 'Vaio',\n",
       "       'GIGABYTE', 'Nokia', 'ALIENWARE'], dtype=object)"
      ]
     },
     "execution_count": 18,
     "metadata": {},
     "output_type": "execute_result"
    }
   ],
   "source": [
    "df.Company.unique()"
   ]
  },
  {
   "cell_type": "code",
   "execution_count": 19,
   "id": "1eb2211e",
   "metadata": {},
   "outputs": [
    {
     "name": "stderr",
     "output_type": "stream",
     "text": [
      "C:\\Users\\Deekshitha\\AppData\\Local\\Temp\\ipykernel_11692\\2789440362.py:1: SettingWithCopyWarning: \n",
      "A value is trying to be set on a copy of a slice from a DataFrame.\n",
      "Try using .loc[row_indexer,col_indexer] = value instead\n",
      "\n",
      "See the caveats in the documentation: https://pandas.pydata.org/pandas-docs/stable/user_guide/indexing.html#returning-a-view-versus-a-copy\n",
      "  df['MRP'] = df['MRP'].str.replace('₹', '')\n"
     ]
    }
   ],
   "source": [
    "df['MRP'] = df['MRP'].str.replace('₹', '')"
   ]
  },
  {
   "cell_type": "code",
   "execution_count": 20,
   "id": "2e395a1e",
   "metadata": {},
   "outputs": [
    {
     "data": {
      "text/plain": [
       "Product          0\n",
       "MRP              0\n",
       "Feature          0\n",
       "Company          0\n",
       "Processor        0\n",
       "RAM              0\n",
       "OS               0\n",
       "Storage_Size    23\n",
       "Display         23\n",
       "Warranty         0\n",
       "Storage_type     0\n",
       "dtype: int64"
      ]
     },
     "execution_count": 20,
     "metadata": {},
     "output_type": "execute_result"
    }
   ],
   "source": [
    "df.isnull().sum()"
   ]
  },
  {
   "cell_type": "code",
   "execution_count": 21,
   "id": "cae05322",
   "metadata": {},
   "outputs": [
    {
     "data": {
      "text/plain": [
       "Product         0.000000\n",
       "MRP             0.000000\n",
       "Feature         0.000000\n",
       "Company         0.000000\n",
       "Processor       0.000000\n",
       "RAM             0.000000\n",
       "OS              0.000000\n",
       "Storage_Size    5.463183\n",
       "Display         5.463183\n",
       "Warranty        0.000000\n",
       "Storage_type    0.000000\n",
       "dtype: float64"
      ]
     },
     "execution_count": 21,
     "metadata": {},
     "output_type": "execute_result"
    }
   ],
   "source": [
    "missing_percentage = (df.isnull().sum() / len(df)) * 100\n",
    "missing_percentage"
   ]
  },
  {
   "cell_type": "code",
   "execution_count": 22,
   "id": "e3091e03",
   "metadata": {},
   "outputs": [
    {
     "name": "stderr",
     "output_type": "stream",
     "text": [
      "C:\\Users\\Deekshitha\\AppData\\Local\\Temp\\ipykernel_11692\\2857549104.py:1: SettingWithCopyWarning: \n",
      "A value is trying to be set on a copy of a slice from a DataFrame.\n",
      "Try using .loc[row_indexer,col_indexer] = value instead\n",
      "\n",
      "See the caveats in the documentation: https://pandas.pydata.org/pandas-docs/stable/user_guide/indexing.html#returning-a-view-versus-a-copy\n",
      "  df['MRP'] = pd.to_numeric(df['MRP'].str.replace(',', ''), errors='coerce', downcast='float')\n"
     ]
    }
   ],
   "source": [
    "df['MRP'] = pd.to_numeric(df['MRP'].str.replace(',', ''), errors='coerce', downcast='float')"
   ]
  },
  {
   "cell_type": "code",
   "execution_count": 23,
   "id": "d0d53035",
   "metadata": {},
   "outputs": [
    {
     "name": "stdout",
     "output_type": "stream",
     "text": [
      "<class 'pandas.core.frame.DataFrame'>\n",
      "Int64Index: 421 entries, 0 to 719\n",
      "Data columns (total 11 columns):\n",
      " #   Column        Non-Null Count  Dtype  \n",
      "---  ------        --------------  -----  \n",
      " 0   Product       421 non-null    object \n",
      " 1   MRP           421 non-null    float32\n",
      " 2   Feature       421 non-null    object \n",
      " 3   Company       421 non-null    object \n",
      " 4   Processor     421 non-null    object \n",
      " 5   RAM           421 non-null    object \n",
      " 6   OS            421 non-null    object \n",
      " 7   Storage_Size  398 non-null    float64\n",
      " 8   Display       398 non-null    object \n",
      " 9   Warranty      421 non-null    object \n",
      " 10  Storage_type  421 non-null    object \n",
      "dtypes: float32(1), float64(1), object(9)\n",
      "memory usage: 37.8+ KB\n"
     ]
    }
   ],
   "source": [
    "df.info()"
   ]
  },
  {
   "cell_type": "code",
   "execution_count": 24,
   "id": "fb65e7ad",
   "metadata": {},
   "outputs": [
    {
     "data": {
      "text/plain": [
       "array(['8 GB DDR4 RAM', '16 GB DDR4 RAM', '16 GB DDR5 RAM',\n",
       "       '4 GB LPDDR4 RAM', '4 GB DDR4 RAM', '8 GB Unified Memory RAM',\n",
       "       '8 GB LPDDR4X RAM', '16 GB Unified Memory RAM', '4 GB LPDDR4X RAM',\n",
       "       '16 GB LPDDR4X RAM', '16 GB LPDDR5 RAM',\n",
       "       '32 GB Unified Memory RAM', '16 GB LPDDR4 RAM', '32 GB DDR5 RAM',\n",
       "       '128 GB SSD for Reduced Boot Up Time and in Game LoadingUpgradable SSD Upto 512 GB and RAM',\n",
       "       '8 GB DDR5 RAM', '32 GB DDR4 RAM', '32 GB LPDDR4X RAM',\n",
       "       '16 GB LPDDR3 RAM'], dtype=object)"
      ]
     },
     "execution_count": 24,
     "metadata": {},
     "output_type": "execute_result"
    }
   ],
   "source": [
    "df.RAM.unique()"
   ]
  },
  {
   "cell_type": "code",
   "execution_count": 25,
   "id": "4f9410ab",
   "metadata": {},
   "outputs": [
    {
     "name": "stderr",
     "output_type": "stream",
     "text": [
      "C:\\Users\\Deekshitha\\AppData\\Local\\Temp\\ipykernel_11692\\1924343356.py:1: SettingWithCopyWarning: \n",
      "A value is trying to be set on a copy of a slice from a DataFrame.\n",
      "Try using .loc[row_indexer,col_indexer] = value instead\n",
      "\n",
      "See the caveats in the documentation: https://pandas.pydata.org/pandas-docs/stable/user_guide/indexing.html#returning-a-view-versus-a-copy\n",
      "  df[\"RAM_Size\"] = df['RAM'].str.extract(r'(.*?)(?=GB)')\n"
     ]
    }
   ],
   "source": [
    "df[\"RAM_Size\"] = df['RAM'].str.extract(r'(.*?)(?=GB)')"
   ]
  },
  {
   "cell_type": "code",
   "execution_count": 26,
   "id": "75970555",
   "metadata": {},
   "outputs": [
    {
     "name": "stdout",
     "output_type": "stream",
     "text": [
      "<class 'pandas.core.frame.DataFrame'>\n",
      "Int64Index: 421 entries, 0 to 719\n",
      "Data columns (total 12 columns):\n",
      " #   Column        Non-Null Count  Dtype  \n",
      "---  ------        --------------  -----  \n",
      " 0   Product       421 non-null    object \n",
      " 1   MRP           421 non-null    float32\n",
      " 2   Feature       421 non-null    object \n",
      " 3   Company       421 non-null    object \n",
      " 4   Processor     421 non-null    object \n",
      " 5   RAM           421 non-null    object \n",
      " 6   OS            421 non-null    object \n",
      " 7   Storage_Size  398 non-null    float64\n",
      " 8   Display       398 non-null    object \n",
      " 9   Warranty      421 non-null    object \n",
      " 10  Storage_type  421 non-null    object \n",
      " 11  RAM_Size      421 non-null    object \n",
      "dtypes: float32(1), float64(1), object(10)\n",
      "memory usage: 41.1+ KB\n"
     ]
    }
   ],
   "source": [
    "df.info()"
   ]
  },
  {
   "cell_type": "code",
   "execution_count": 27,
   "id": "0e7c8c85",
   "metadata": {},
   "outputs": [
    {
     "name": "stderr",
     "output_type": "stream",
     "text": [
      "C:\\Users\\Deekshitha\\AppData\\Local\\Temp\\ipykernel_11692\\2759396554.py:1: SettingWithCopyWarning: \n",
      "A value is trying to be set on a copy of a slice from a DataFrame.\n",
      "Try using .loc[row_indexer,col_indexer] = value instead\n",
      "\n",
      "See the caveats in the documentation: https://pandas.pydata.org/pandas-docs/stable/user_guide/indexing.html#returning-a-view-versus-a-copy\n",
      "  df['RAM_Size'] = pd.to_numeric(df['RAM_Size'].str.replace(',', ''), errors='coerce', downcast='integer')\n"
     ]
    }
   ],
   "source": [
    "df['RAM_Size'] = pd.to_numeric(df['RAM_Size'].str.replace(',', ''), errors='coerce', downcast='integer')"
   ]
  },
  {
   "cell_type": "code",
   "execution_count": 28,
   "id": "831b11ae",
   "metadata": {},
   "outputs": [
    {
     "name": "stderr",
     "output_type": "stream",
     "text": [
      "C:\\Users\\Deekshitha\\AppData\\Local\\Temp\\ipykernel_11692\\2374039173.py:1: SettingWithCopyWarning: \n",
      "A value is trying to be set on a copy of a slice from a DataFrame.\n",
      "Try using .loc[row_indexer,col_indexer] = value instead\n",
      "\n",
      "See the caveats in the documentation: https://pandas.pydata.org/pandas-docs/stable/user_guide/indexing.html#returning-a-view-versus-a-copy\n",
      "  df['RAM_Gen'] = df['RAM'].str.extract(r'(DDR[0-9L]*|LPDDR[0-9X]*)')\n"
     ]
    }
   ],
   "source": [
    "df['RAM_Gen'] = df['RAM'].str.extract(r'(DDR[0-9L]*|LPDDR[0-9X]*)')"
   ]
  },
  {
   "cell_type": "code",
   "execution_count": 29,
   "id": "fd4341a0",
   "metadata": {},
   "outputs": [
    {
     "name": "stderr",
     "output_type": "stream",
     "text": [
      "C:\\Users\\Deekshitha\\AppData\\Local\\Temp\\ipykernel_11692\\4163985375.py:1: SettingWithCopyWarning: \n",
      "A value is trying to be set on a copy of a slice from a DataFrame.\n",
      "Try using .loc[row_indexer,col_indexer] = value instead\n",
      "\n",
      "See the caveats in the documentation: https://pandas.pydata.org/pandas-docs/stable/user_guide/indexing.html#returning-a-view-versus-a-copy\n",
      "  df['Year_Info'] = df['Warranty'].str.extract(r'(\\d+)\\s*Year', flags=re.IGNORECASE)\n"
     ]
    }
   ],
   "source": [
    "df['Year_Info'] = df['Warranty'].str.extract(r'(\\d+)\\s*Year', flags=re.IGNORECASE)"
   ]
  },
  {
   "cell_type": "code",
   "execution_count": 30,
   "id": "13501a1c",
   "metadata": {},
   "outputs": [
    {
     "name": "stderr",
     "output_type": "stream",
     "text": [
      "C:\\Users\\Deekshitha\\AppData\\Local\\Temp\\ipykernel_11692\\1842235677.py:1: SettingWithCopyWarning: \n",
      "A value is trying to be set on a copy of a slice from a DataFrame.\n",
      "Try using .loc[row_indexer,col_indexer] = value instead\n",
      "\n",
      "See the caveats in the documentation: https://pandas.pydata.org/pandas-docs/stable/user_guide/indexing.html#returning-a-view-versus-a-copy\n",
      "  df[\"Year_Info\"] = df['Year_Info'].str[-1]\n"
     ]
    }
   ],
   "source": [
    "df[\"Year_Info\"] = df['Year_Info'].str[-1]"
   ]
  },
  {
   "cell_type": "code",
   "execution_count": 31,
   "id": "080ba5c8",
   "metadata": {},
   "outputs": [
    {
     "name": "stderr",
     "output_type": "stream",
     "text": [
      "C:\\Users\\Deekshitha\\AppData\\Local\\Temp\\ipykernel_11692\\911948617.py:1: SettingWithCopyWarning: \n",
      "A value is trying to be set on a copy of a slice from a DataFrame\n",
      "\n",
      "See the caveats in the documentation: https://pandas.pydata.org/pandas-docs/stable/user_guide/indexing.html#returning-a-view-versus-a-copy\n",
      "  df.drop('RAM', axis=1, inplace=True)\n"
     ]
    }
   ],
   "source": [
    "df.drop('RAM', axis=1, inplace=True)"
   ]
  },
  {
   "cell_type": "code",
   "execution_count": 32,
   "id": "d0faa5d7",
   "metadata": {},
   "outputs": [
    {
     "name": "stderr",
     "output_type": "stream",
     "text": [
      "C:\\Users\\Deekshitha\\AppData\\Local\\Temp\\ipykernel_11692\\1336682387.py:1: SettingWithCopyWarning: \n",
      "A value is trying to be set on a copy of a slice from a DataFrame\n",
      "\n",
      "See the caveats in the documentation: https://pandas.pydata.org/pandas-docs/stable/user_guide/indexing.html#returning-a-view-versus-a-copy\n",
      "  df.drop('Warranty', axis=1, inplace=True)\n"
     ]
    }
   ],
   "source": [
    "df.drop('Warranty', axis=1, inplace=True)"
   ]
  },
  {
   "cell_type": "code",
   "execution_count": 33,
   "id": "a06730d8",
   "metadata": {},
   "outputs": [
    {
     "data": {
      "text/plain": [
       "array(['2', '1', '3', nan], dtype=object)"
      ]
     },
     "execution_count": 33,
     "metadata": {},
     "output_type": "execute_result"
    }
   ],
   "source": [
    "df['Year_Info'].unique()"
   ]
  },
  {
   "cell_type": "code",
   "execution_count": 34,
   "id": "8fb4185b",
   "metadata": {},
   "outputs": [
    {
     "name": "stderr",
     "output_type": "stream",
     "text": [
      "C:\\Users\\Deekshitha\\AppData\\Local\\Temp\\ipykernel_11692\\2465365438.py:1: SettingWithCopyWarning: \n",
      "A value is trying to be set on a copy of a slice from a DataFrame.\n",
      "Try using .loc[row_indexer,col_indexer] = value instead\n",
      "\n",
      "See the caveats in the documentation: https://pandas.pydata.org/pandas-docs/stable/user_guide/indexing.html#returning-a-view-versus-a-copy\n",
      "  df['Year_Info'] = pd.to_numeric(df['Year_Info'], errors='coerce').astype(pd.Int64Dtype())\n"
     ]
    }
   ],
   "source": [
    "df['Year_Info'] = pd.to_numeric(df['Year_Info'], errors='coerce').astype(pd.Int64Dtype())\n",
    "df = df.rename(columns={'Year_Info': 'Warranty'})"
   ]
  },
  {
   "cell_type": "code",
   "execution_count": 35,
   "id": "016e107f",
   "metadata": {},
   "outputs": [
    {
     "data": {
      "text/html": [
       "<div>\n",
       "<style scoped>\n",
       "    .dataframe tbody tr th:only-of-type {\n",
       "        vertical-align: middle;\n",
       "    }\n",
       "\n",
       "    .dataframe tbody tr th {\n",
       "        vertical-align: top;\n",
       "    }\n",
       "\n",
       "    .dataframe thead th {\n",
       "        text-align: right;\n",
       "    }\n",
       "</style>\n",
       "<table border=\"1\" class=\"dataframe\">\n",
       "  <thead>\n",
       "    <tr style=\"text-align: right;\">\n",
       "      <th></th>\n",
       "      <th>Product</th>\n",
       "      <th>MRP</th>\n",
       "      <th>Feature</th>\n",
       "      <th>Company</th>\n",
       "      <th>Processor</th>\n",
       "      <th>OS</th>\n",
       "      <th>Storage_Size</th>\n",
       "      <th>Display</th>\n",
       "      <th>Storage_type</th>\n",
       "      <th>RAM_Size</th>\n",
       "      <th>RAM_Gen</th>\n",
       "      <th>Warranty</th>\n",
       "    </tr>\n",
       "  </thead>\n",
       "  <tbody>\n",
       "    <tr>\n",
       "      <th>0</th>\n",
       "      <td>Lenovo IdeaPad 3 Core i3 11th Gen - (8 GB/256 ...</td>\n",
       "      <td>36990.0</td>\n",
       "      <td>Intel Core i3 Processor (11th Gen)8 GB DDR4 RA...</td>\n",
       "      <td>Lenovo</td>\n",
       "      <td>Intel Core i3</td>\n",
       "      <td>64 bit Windows 11</td>\n",
       "      <td>256.0</td>\n",
       "      <td>35.56 cm (14 inch)</td>\n",
       "      <td>SSD</td>\n",
       "      <td>8</td>\n",
       "      <td>DDR4</td>\n",
       "      <td>2</td>\n",
       "    </tr>\n",
       "    <tr>\n",
       "      <th>1</th>\n",
       "      <td>Lenovo IdeaPad 3 Core i3 11th Gen - (8 GB/512 ...</td>\n",
       "      <td>39990.0</td>\n",
       "      <td>Intel Core i3 Processor (11th Gen)8 GB DDR4 RA...</td>\n",
       "      <td>Lenovo</td>\n",
       "      <td>Intel Core i3</td>\n",
       "      <td>64 bit Windows 11</td>\n",
       "      <td>512.0</td>\n",
       "      <td>39.62 cm (15.6 inch)</td>\n",
       "      <td>SSD</td>\n",
       "      <td>8</td>\n",
       "      <td>DDR4</td>\n",
       "      <td>2</td>\n",
       "    </tr>\n",
       "    <tr>\n",
       "      <th>2</th>\n",
       "      <td>ASUS VivoBook 15 (2022) Core i3 10th Gen - (8 ...</td>\n",
       "      <td>32990.0</td>\n",
       "      <td>Intel Core i3 Processor (10th Gen)8 GB DDR4 RA...</td>\n",
       "      <td>ASUS</td>\n",
       "      <td>Intel Core i3</td>\n",
       "      <td>64 bit Windows 11</td>\n",
       "      <td>512.0</td>\n",
       "      <td>39.62 cm (15.6 inch)</td>\n",
       "      <td>SSD</td>\n",
       "      <td>8</td>\n",
       "      <td>DDR4</td>\n",
       "      <td>1</td>\n",
       "    </tr>\n",
       "    <tr>\n",
       "      <th>3</th>\n",
       "      <td>HP Pavilion Ryzen 5 Hexa Core AMD R5-5600H - (...</td>\n",
       "      <td>49990.0</td>\n",
       "      <td>AMD Ryzen 5 Hexa Core Processor8 GB DDR4 RAM64...</td>\n",
       "      <td>HP</td>\n",
       "      <td>AMD Ryzen 5 Hexa Core</td>\n",
       "      <td>64 bit Windows 10</td>\n",
       "      <td>512.0</td>\n",
       "      <td>39.62 cm (15.6 inch)</td>\n",
       "      <td>SSD</td>\n",
       "      <td>8</td>\n",
       "      <td>DDR4</td>\n",
       "      <td>1</td>\n",
       "    </tr>\n",
       "    <tr>\n",
       "      <th>4</th>\n",
       "      <td>ASUS TUF Gaming F15 Core i5 10th Gen - (8 GB/5...</td>\n",
       "      <td>49990.0</td>\n",
       "      <td>Intel Core i5 Processor (10th Gen)8 GB DDR4 RA...</td>\n",
       "      <td>ASUS</td>\n",
       "      <td>Intel Core i5</td>\n",
       "      <td>Windows 11</td>\n",
       "      <td>512.0</td>\n",
       "      <td>39.62 cm (15.6 inch)</td>\n",
       "      <td>SSD</td>\n",
       "      <td>8</td>\n",
       "      <td>DDR4</td>\n",
       "      <td>1</td>\n",
       "    </tr>\n",
       "    <tr>\n",
       "      <th>...</th>\n",
       "      <td>...</td>\n",
       "      <td>...</td>\n",
       "      <td>...</td>\n",
       "      <td>...</td>\n",
       "      <td>...</td>\n",
       "      <td>...</td>\n",
       "      <td>...</td>\n",
       "      <td>...</td>\n",
       "      <td>...</td>\n",
       "      <td>...</td>\n",
       "      <td>...</td>\n",
       "      <td>...</td>\n",
       "    </tr>\n",
       "    <tr>\n",
       "      <th>713</th>\n",
       "      <td>DELL Core i5 12th Gen - (16 GB/512 GB SSD/Wind...</td>\n",
       "      <td>76590.0</td>\n",
       "      <td>Intel Core i5 Processor (12th Gen)16 GB DDR5 R...</td>\n",
       "      <td>DELL</td>\n",
       "      <td>Intel Core i5</td>\n",
       "      <td>64 bit Windows 11</td>\n",
       "      <td>512.0</td>\n",
       "      <td>33.78 cm (13.3 Inch)</td>\n",
       "      <td>SSD</td>\n",
       "      <td>16</td>\n",
       "      <td>DDR5</td>\n",
       "      <td>1</td>\n",
       "    </tr>\n",
       "    <tr>\n",
       "      <th>714</th>\n",
       "      <td>HP Pavilion Ryzen 7 Octa Core AMD R7-5800H - (...</td>\n",
       "      <td>90000.0</td>\n",
       "      <td>AMD Ryzen 7 Octa Core Processor16 GB DDR4 RAM6...</td>\n",
       "      <td>HP</td>\n",
       "      <td>AMD Ryzen 7 Octa Core</td>\n",
       "      <td>64 bit Windows 10</td>\n",
       "      <td>512.0</td>\n",
       "      <td>39.62 cm (15.6 inches)</td>\n",
       "      <td>SSD</td>\n",
       "      <td>16</td>\n",
       "      <td>DDR4</td>\n",
       "      <td>1</td>\n",
       "    </tr>\n",
       "    <tr>\n",
       "      <th>715</th>\n",
       "      <td>ASUS Chromebook Flip Touch Celeron Dual Core -...</td>\n",
       "      <td>23490.0</td>\n",
       "      <td>Intel Celeron Dual Core Processor4 GB LPDDR4 R...</td>\n",
       "      <td>ASUS</td>\n",
       "      <td>Intel Celeron Dual Core</td>\n",
       "      <td>Chrome</td>\n",
       "      <td>NaN</td>\n",
       "      <td>NaN</td>\n",
       "      <td>HDD</td>\n",
       "      <td>4</td>\n",
       "      <td>LPDDR4</td>\n",
       "      <td>1</td>\n",
       "    </tr>\n",
       "    <tr>\n",
       "      <th>718</th>\n",
       "      <td>ASUS Zenbook Flip 14 OLED (2022) Touch Panel C...</td>\n",
       "      <td>125990.0</td>\n",
       "      <td>Intel Core i7 Processor (12th Gen)16 GB LPDDR5...</td>\n",
       "      <td>ASUS</td>\n",
       "      <td>Intel Core i7</td>\n",
       "      <td>64 bit Windows 11</td>\n",
       "      <td>512.0</td>\n",
       "      <td>35.56 cm (14 inch) Touchscreen</td>\n",
       "      <td>SSD</td>\n",
       "      <td>16</td>\n",
       "      <td>LPDDR5</td>\n",
       "      <td>1</td>\n",
       "    </tr>\n",
       "    <tr>\n",
       "      <th>719</th>\n",
       "      <td>Lenovo Ideapad Slim 3i Core i5 10th Gen - (8 G...</td>\n",
       "      <td>50990.0</td>\n",
       "      <td>Intel Core i5 Processor (10th Gen)8 GB DDR4 RA...</td>\n",
       "      <td>Lenovo</td>\n",
       "      <td>Intel Core i5</td>\n",
       "      <td>64 bit Windows 10</td>\n",
       "      <td>256.0</td>\n",
       "      <td>39.62 cm (15.6 inch)</td>\n",
       "      <td>SSD</td>\n",
       "      <td>8</td>\n",
       "      <td>DDR4</td>\n",
       "      <td>1</td>\n",
       "    </tr>\n",
       "  </tbody>\n",
       "</table>\n",
       "<p>421 rows × 12 columns</p>\n",
       "</div>"
      ],
      "text/plain": [
       "                                               Product       MRP  \\\n",
       "0    Lenovo IdeaPad 3 Core i3 11th Gen - (8 GB/256 ...   36990.0   \n",
       "1    Lenovo IdeaPad 3 Core i3 11th Gen - (8 GB/512 ...   39990.0   \n",
       "2    ASUS VivoBook 15 (2022) Core i3 10th Gen - (8 ...   32990.0   \n",
       "3    HP Pavilion Ryzen 5 Hexa Core AMD R5-5600H - (...   49990.0   \n",
       "4    ASUS TUF Gaming F15 Core i5 10th Gen - (8 GB/5...   49990.0   \n",
       "..                                                 ...       ...   \n",
       "713  DELL Core i5 12th Gen - (16 GB/512 GB SSD/Wind...   76590.0   \n",
       "714  HP Pavilion Ryzen 7 Octa Core AMD R7-5800H - (...   90000.0   \n",
       "715  ASUS Chromebook Flip Touch Celeron Dual Core -...   23490.0   \n",
       "718  ASUS Zenbook Flip 14 OLED (2022) Touch Panel C...  125990.0   \n",
       "719  Lenovo Ideapad Slim 3i Core i5 10th Gen - (8 G...   50990.0   \n",
       "\n",
       "                                               Feature Company  \\\n",
       "0    Intel Core i3 Processor (11th Gen)8 GB DDR4 RA...  Lenovo   \n",
       "1    Intel Core i3 Processor (11th Gen)8 GB DDR4 RA...  Lenovo   \n",
       "2    Intel Core i3 Processor (10th Gen)8 GB DDR4 RA...    ASUS   \n",
       "3    AMD Ryzen 5 Hexa Core Processor8 GB DDR4 RAM64...      HP   \n",
       "4    Intel Core i5 Processor (10th Gen)8 GB DDR4 RA...    ASUS   \n",
       "..                                                 ...     ...   \n",
       "713  Intel Core i5 Processor (12th Gen)16 GB DDR5 R...    DELL   \n",
       "714  AMD Ryzen 7 Octa Core Processor16 GB DDR4 RAM6...      HP   \n",
       "715  Intel Celeron Dual Core Processor4 GB LPDDR4 R...    ASUS   \n",
       "718  Intel Core i7 Processor (12th Gen)16 GB LPDDR5...    ASUS   \n",
       "719  Intel Core i5 Processor (10th Gen)8 GB DDR4 RA...  Lenovo   \n",
       "\n",
       "                   Processor                  OS  Storage_Size  \\\n",
       "0              Intel Core i3  64 bit Windows 11          256.0   \n",
       "1              Intel Core i3  64 bit Windows 11          512.0   \n",
       "2              Intel Core i3  64 bit Windows 11          512.0   \n",
       "3      AMD Ryzen 5 Hexa Core  64 bit Windows 10          512.0   \n",
       "4              Intel Core i5         Windows 11          512.0   \n",
       "..                       ...                 ...           ...   \n",
       "713            Intel Core i5  64 bit Windows 11          512.0   \n",
       "714    AMD Ryzen 7 Octa Core  64 bit Windows 10          512.0   \n",
       "715  Intel Celeron Dual Core             Chrome            NaN   \n",
       "718            Intel Core i7  64 bit Windows 11          512.0   \n",
       "719            Intel Core i5  64 bit Windows 10          256.0   \n",
       "\n",
       "                             Display Storage_type  RAM_Size RAM_Gen  Warranty  \n",
       "0                35.56 cm (14 inch)           SSD         8    DDR4         2  \n",
       "1              39.62 cm (15.6 inch)           SSD         8    DDR4         2  \n",
       "2              39.62 cm (15.6 inch)           SSD         8    DDR4         1  \n",
       "3              39.62 cm (15.6 inch)           SSD         8    DDR4         1  \n",
       "4              39.62 cm (15.6 inch)           SSD         8    DDR4         1  \n",
       "..                               ...          ...       ...     ...       ...  \n",
       "713            33.78 cm (13.3 Inch)           SSD        16    DDR5         1  \n",
       "714          39.62 cm (15.6 inches)           SSD        16    DDR4         1  \n",
       "715                              NaN          HDD         4  LPDDR4         1  \n",
       "718  35.56 cm (14 inch) Touchscreen           SSD        16  LPDDR5         1  \n",
       "719            39.62 cm (15.6 inch)           SSD         8    DDR4         1  \n",
       "\n",
       "[421 rows x 12 columns]"
      ]
     },
     "execution_count": 35,
     "metadata": {},
     "output_type": "execute_result"
    }
   ],
   "source": [
    "df"
   ]
  },
  {
   "cell_type": "code",
   "execution_count": 36,
   "id": "5ee54036",
   "metadata": {},
   "outputs": [
    {
     "data": {
      "text/plain": [
       "<IntegerArray>\n",
       "[2, 1, 3, <NA>]\n",
       "Length: 4, dtype: Int64"
      ]
     },
     "execution_count": 36,
     "metadata": {},
     "output_type": "execute_result"
    }
   ],
   "source": [
    "df.Warranty.unique()"
   ]
  },
  {
   "cell_type": "code",
   "execution_count": 37,
   "id": "95d0c48b",
   "metadata": {},
   "outputs": [],
   "source": [
    "##Operating_System\n",
    "df['OS_Type'] = df['Feature'].apply(lambda x: 'Windows' if 'Windows' in x else'Mac OS' if 'Mac OS' in x else \"Windows\")"
   ]
  },
  {
   "cell_type": "code",
   "execution_count": 38,
   "id": "6d3550e4",
   "metadata": {},
   "outputs": [],
   "source": [
    "df['Processor_Brand'] = df['Feature'].str.extract(r'^(AMD|Intel|M1|Apple)[\\s\\w]+Processor')"
   ]
  },
  {
   "cell_type": "code",
   "execution_count": 39,
   "id": "b09a2425",
   "metadata": {},
   "outputs": [],
   "source": [
    "p= r'^(?:AMD|Intel|M1|Apple)[\\s\\w]+(?= Processor)'\n",
    "df['Processor_Type']=df['Feature'].apply(lambda x : re.findall(p, x))"
   ]
  },
  {
   "cell_type": "code",
   "execution_count": 40,
   "id": "dafea3a2",
   "metadata": {},
   "outputs": [
    {
     "data": {
      "text/plain": [
       "0                [Intel Core i3]\n",
       "1                [Intel Core i3]\n",
       "2                [Intel Core i3]\n",
       "3        [AMD Ryzen 5 Hexa Core]\n",
       "4                [Intel Core i5]\n",
       "                 ...            \n",
       "713              [Intel Core i5]\n",
       "714      [AMD Ryzen 7 Octa Core]\n",
       "715    [Intel Celeron Dual Core]\n",
       "718              [Intel Core i7]\n",
       "719              [Intel Core i5]\n",
       "Name: Processor_Type, Length: 421, dtype: object"
      ]
     },
     "execution_count": 40,
     "metadata": {},
     "output_type": "execute_result"
    }
   ],
   "source": [
    "df['Processor_Type']"
   ]
  },
  {
   "cell_type": "code",
   "execution_count": 41,
   "id": "4fed1ea9",
   "metadata": {},
   "outputs": [],
   "source": [
    "df['Processor_Type']=df['Processor_Type'].apply(lambda x : ''.join(x))"
   ]
  },
  {
   "cell_type": "code",
   "execution_count": 42,
   "id": "cc74489f",
   "metadata": {},
   "outputs": [],
   "source": [
    "df.drop('Processor', axis=1, inplace=True)"
   ]
  },
  {
   "cell_type": "code",
   "execution_count": 43,
   "id": "48410721",
   "metadata": {},
   "outputs": [
    {
     "data": {
      "text/plain": [
       "array(['35.56 cm (14 inch) ', '39.62 cm (15.6 inch) ',\n",
       "       'Graphics & Keyboard: Integrated & Standard Keyboard',\n",
       "       '39.62 cm (15.6 Inch) ', '43.94 cm (17.3 Inch) ',\n",
       "       '33.78 cm (13.3 inch) ', '35.56 cm (14 Inch) Touchscreen ',\n",
       "       '35.56 cm (14 Inch) ', '33.78 cm (13.3 Inch) ',\n",
       "       'Graphics: NVIDIA GEFORCE RTX 3050 (4GB GDDR6) TGP Up To 80W',\n",
       "       '36.07 cm (14.2 inch) ', nan, '34.54 cm (13.6 Inch) ', '',\n",
       "       '40.64 cm (16 inch) ', '35.56 cm (14 inch) Touchscreen ',\n",
       "       '40.89 cm (16.1 inch) ', '41.15 cm (16.2 inch) ',\n",
       "       '43.94 cm (17.3 inch) ', '35.81 cm (14.1 inch) ',\n",
       "       '33.78 cm (13.3 inch) Touchscreen ', '40.64 cm (16 Inch) ',\n",
       "       '39.62 cm (15.6 inches) ', '33.78 cm (13.3 Inch) Touchscreen ',\n",
       "       'Software: Win 11 + Office H&S 2021',\n",
       "       '34.04 cm (13.4 Inch) Touchscreen ', '88.9 cm (35 cm) ',\n",
       "       '38.1 cm (15 inch) ', '33.02 cm (13 inch) ',\n",
       "       '38.0 cm (14.96 Inch) ', '34.29 cm (13.5 inch) ',\n",
       "       '35.56 cm (14 inches) ', '29.46 cm (11.6 inch) ',\n",
       "       '40.89 cm (16.1 Inch) ',\n",
       "       ' for Reduced Boot Up Time and in Game LoadingUpgradable SSD Upto 512 GB and RAM Upto 32 GBNVIDIA Geforce GTX 1050Ti for Desktop Level PerformanceIntel Core i5 Processor (7th Gen)8 GB DDR4 RAM64 bit Windows 10 Operating System1 TB HDD|128 GB SSD39.62 cm (15.6 inch) ',\n",
       "       '29.46 cm (11.6 Inch) Touchscreen ', '42.16 cm (16.6 inch) ',\n",
       "       'Graphics: NVIDIA� GEFORCE� RTX 3050 Ti (4GB GDDR6)',\n",
       "       '40.64 cm (16 Inch) Touchscreen ', '29.46 cm (11.6 Inch) ',\n",
       "       '39.62 cm (15.6 inch) Touchscreen ',\n",
       "       ' Capacity for Reduced Boot Up Time and in Game LoadingDual Fan Cooling with Metal AeroBlade for Interuption Free GamingFineTip Backlit Keyboard with Independent Standard Numeric KeypadIntel Core i5 Processor (8th Gen)8 GB DDR4 RAM64 bit Windows 10 Operating System1 TB HDD|128 GB SSD39.62 cm (15.6 inch) '],\n",
       "      dtype=object)"
      ]
     },
     "execution_count": 43,
     "metadata": {},
     "output_type": "execute_result"
    }
   ],
   "source": [
    "df.Display.unique()"
   ]
  },
  {
   "cell_type": "code",
   "execution_count": 44,
   "id": "7305cc21",
   "metadata": {},
   "outputs": [],
   "source": [
    "df['Display(inches)'] = df['Feature'].str.extract(r'cm \\((.*?)(?=inch)').astype('float')"
   ]
  },
  {
   "cell_type": "code",
   "execution_count": 45,
   "id": "814e53b8",
   "metadata": {},
   "outputs": [
    {
     "data": {
      "text/plain": [
       "0      14.0\n",
       "1      15.6\n",
       "2      15.6\n",
       "3      15.6\n",
       "4      15.6\n",
       "       ... \n",
       "713     NaN\n",
       "714    15.6\n",
       "715    11.6\n",
       "718    14.0\n",
       "719    15.6\n",
       "Name: Display(inches), Length: 421, dtype: float64"
      ]
     },
     "execution_count": 45,
     "metadata": {},
     "output_type": "execute_result"
    }
   ],
   "source": [
    "df['Display(inches)']"
   ]
  },
  {
   "cell_type": "code",
   "execution_count": 46,
   "id": "2b7c5e2a",
   "metadata": {},
   "outputs": [],
   "source": [
    "df.drop('Display', axis=1, inplace=True)"
   ]
  },
  {
   "cell_type": "code",
   "execution_count": 47,
   "id": "d871ccca",
   "metadata": {},
   "outputs": [
    {
     "name": "stdout",
     "output_type": "stream",
     "text": [
      "<class 'pandas.core.frame.DataFrame'>\n",
      "Int64Index: 421 entries, 0 to 719\n",
      "Data columns (total 14 columns):\n",
      " #   Column           Non-Null Count  Dtype  \n",
      "---  ------           --------------  -----  \n",
      " 0   Product          421 non-null    object \n",
      " 1   MRP              421 non-null    float32\n",
      " 2   Feature          421 non-null    object \n",
      " 3   Company          421 non-null    object \n",
      " 4   OS               421 non-null    object \n",
      " 5   Storage_Size     398 non-null    float64\n",
      " 6   Storage_type     421 non-null    object \n",
      " 7   RAM_Size         421 non-null    int16  \n",
      " 8   RAM_Gen          408 non-null    object \n",
      " 9   Warranty         420 non-null    Int64  \n",
      " 10  OS_Type          421 non-null    object \n",
      " 11  Processor_Brand  391 non-null    object \n",
      " 12  Processor_Type   421 non-null    object \n",
      " 13  Display(inches)  284 non-null    float64\n",
      "dtypes: Int64(1), float32(1), float64(2), int16(1), object(9)\n",
      "memory usage: 45.6+ KB\n"
     ]
    }
   ],
   "source": [
    "df.info()"
   ]
  },
  {
   "cell_type": "code",
   "execution_count": 48,
   "id": "895e0df4",
   "metadata": {},
   "outputs": [],
   "source": [
    "df = df[['Product','MRP','Company','OS_Type','Processor_Brand','Processor_Type','RAM_Size','RAM_Gen','Storage_Size','Storage_type','Display(inches)','Warranty']]"
   ]
  },
  {
   "cell_type": "code",
   "execution_count": 49,
   "id": "4763afb8",
   "metadata": {},
   "outputs": [
    {
     "data": {
      "text/html": [
       "<div>\n",
       "<style scoped>\n",
       "    .dataframe tbody tr th:only-of-type {\n",
       "        vertical-align: middle;\n",
       "    }\n",
       "\n",
       "    .dataframe tbody tr th {\n",
       "        vertical-align: top;\n",
       "    }\n",
       "\n",
       "    .dataframe thead th {\n",
       "        text-align: right;\n",
       "    }\n",
       "</style>\n",
       "<table border=\"1\" class=\"dataframe\">\n",
       "  <thead>\n",
       "    <tr style=\"text-align: right;\">\n",
       "      <th></th>\n",
       "      <th>Product</th>\n",
       "      <th>MRP</th>\n",
       "      <th>Company</th>\n",
       "      <th>OS_Type</th>\n",
       "      <th>Processor_Brand</th>\n",
       "      <th>Processor_Type</th>\n",
       "      <th>RAM_Size</th>\n",
       "      <th>RAM_Gen</th>\n",
       "      <th>Storage_Size</th>\n",
       "      <th>Storage_type</th>\n",
       "      <th>Display(inches)</th>\n",
       "      <th>Warranty</th>\n",
       "    </tr>\n",
       "  </thead>\n",
       "  <tbody>\n",
       "    <tr>\n",
       "      <th>0</th>\n",
       "      <td>Lenovo IdeaPad 3 Core i3 11th Gen - (8 GB/256 ...</td>\n",
       "      <td>36990.0</td>\n",
       "      <td>Lenovo</td>\n",
       "      <td>Windows</td>\n",
       "      <td>Intel</td>\n",
       "      <td>Intel Core i3</td>\n",
       "      <td>8</td>\n",
       "      <td>DDR4</td>\n",
       "      <td>256.0</td>\n",
       "      <td>SSD</td>\n",
       "      <td>14.0</td>\n",
       "      <td>2</td>\n",
       "    </tr>\n",
       "    <tr>\n",
       "      <th>1</th>\n",
       "      <td>Lenovo IdeaPad 3 Core i3 11th Gen - (8 GB/512 ...</td>\n",
       "      <td>39990.0</td>\n",
       "      <td>Lenovo</td>\n",
       "      <td>Windows</td>\n",
       "      <td>Intel</td>\n",
       "      <td>Intel Core i3</td>\n",
       "      <td>8</td>\n",
       "      <td>DDR4</td>\n",
       "      <td>512.0</td>\n",
       "      <td>SSD</td>\n",
       "      <td>15.6</td>\n",
       "      <td>2</td>\n",
       "    </tr>\n",
       "    <tr>\n",
       "      <th>2</th>\n",
       "      <td>ASUS VivoBook 15 (2022) Core i3 10th Gen - (8 ...</td>\n",
       "      <td>32990.0</td>\n",
       "      <td>ASUS</td>\n",
       "      <td>Windows</td>\n",
       "      <td>Intel</td>\n",
       "      <td>Intel Core i3</td>\n",
       "      <td>8</td>\n",
       "      <td>DDR4</td>\n",
       "      <td>512.0</td>\n",
       "      <td>SSD</td>\n",
       "      <td>15.6</td>\n",
       "      <td>1</td>\n",
       "    </tr>\n",
       "    <tr>\n",
       "      <th>3</th>\n",
       "      <td>HP Pavilion Ryzen 5 Hexa Core AMD R5-5600H - (...</td>\n",
       "      <td>49990.0</td>\n",
       "      <td>HP</td>\n",
       "      <td>Windows</td>\n",
       "      <td>AMD</td>\n",
       "      <td>AMD Ryzen 5 Hexa Core</td>\n",
       "      <td>8</td>\n",
       "      <td>DDR4</td>\n",
       "      <td>512.0</td>\n",
       "      <td>SSD</td>\n",
       "      <td>15.6</td>\n",
       "      <td>1</td>\n",
       "    </tr>\n",
       "    <tr>\n",
       "      <th>4</th>\n",
       "      <td>ASUS TUF Gaming F15 Core i5 10th Gen - (8 GB/5...</td>\n",
       "      <td>49990.0</td>\n",
       "      <td>ASUS</td>\n",
       "      <td>Windows</td>\n",
       "      <td>Intel</td>\n",
       "      <td>Intel Core i5</td>\n",
       "      <td>8</td>\n",
       "      <td>DDR4</td>\n",
       "      <td>512.0</td>\n",
       "      <td>SSD</td>\n",
       "      <td>15.6</td>\n",
       "      <td>1</td>\n",
       "    </tr>\n",
       "    <tr>\n",
       "      <th>...</th>\n",
       "      <td>...</td>\n",
       "      <td>...</td>\n",
       "      <td>...</td>\n",
       "      <td>...</td>\n",
       "      <td>...</td>\n",
       "      <td>...</td>\n",
       "      <td>...</td>\n",
       "      <td>...</td>\n",
       "      <td>...</td>\n",
       "      <td>...</td>\n",
       "      <td>...</td>\n",
       "      <td>...</td>\n",
       "    </tr>\n",
       "    <tr>\n",
       "      <th>713</th>\n",
       "      <td>DELL Core i5 12th Gen - (16 GB/512 GB SSD/Wind...</td>\n",
       "      <td>76590.0</td>\n",
       "      <td>DELL</td>\n",
       "      <td>Windows</td>\n",
       "      <td>Intel</td>\n",
       "      <td>Intel Core i5</td>\n",
       "      <td>16</td>\n",
       "      <td>DDR5</td>\n",
       "      <td>512.0</td>\n",
       "      <td>SSD</td>\n",
       "      <td>NaN</td>\n",
       "      <td>1</td>\n",
       "    </tr>\n",
       "    <tr>\n",
       "      <th>714</th>\n",
       "      <td>HP Pavilion Ryzen 7 Octa Core AMD R7-5800H - (...</td>\n",
       "      <td>90000.0</td>\n",
       "      <td>HP</td>\n",
       "      <td>Windows</td>\n",
       "      <td>AMD</td>\n",
       "      <td>AMD Ryzen 7 Octa Core</td>\n",
       "      <td>16</td>\n",
       "      <td>DDR4</td>\n",
       "      <td>512.0</td>\n",
       "      <td>SSD</td>\n",
       "      <td>15.6</td>\n",
       "      <td>1</td>\n",
       "    </tr>\n",
       "    <tr>\n",
       "      <th>715</th>\n",
       "      <td>ASUS Chromebook Flip Touch Celeron Dual Core -...</td>\n",
       "      <td>23490.0</td>\n",
       "      <td>ASUS</td>\n",
       "      <td>Windows</td>\n",
       "      <td>Intel</td>\n",
       "      <td>Intel Celeron Dual Core</td>\n",
       "      <td>4</td>\n",
       "      <td>LPDDR4</td>\n",
       "      <td>NaN</td>\n",
       "      <td>HDD</td>\n",
       "      <td>11.6</td>\n",
       "      <td>1</td>\n",
       "    </tr>\n",
       "    <tr>\n",
       "      <th>718</th>\n",
       "      <td>ASUS Zenbook Flip 14 OLED (2022) Touch Panel C...</td>\n",
       "      <td>125990.0</td>\n",
       "      <td>ASUS</td>\n",
       "      <td>Windows</td>\n",
       "      <td>Intel</td>\n",
       "      <td>Intel Core i7</td>\n",
       "      <td>16</td>\n",
       "      <td>LPDDR5</td>\n",
       "      <td>512.0</td>\n",
       "      <td>SSD</td>\n",
       "      <td>14.0</td>\n",
       "      <td>1</td>\n",
       "    </tr>\n",
       "    <tr>\n",
       "      <th>719</th>\n",
       "      <td>Lenovo Ideapad Slim 3i Core i5 10th Gen - (8 G...</td>\n",
       "      <td>50990.0</td>\n",
       "      <td>Lenovo</td>\n",
       "      <td>Windows</td>\n",
       "      <td>Intel</td>\n",
       "      <td>Intel Core i5</td>\n",
       "      <td>8</td>\n",
       "      <td>DDR4</td>\n",
       "      <td>256.0</td>\n",
       "      <td>SSD</td>\n",
       "      <td>15.6</td>\n",
       "      <td>1</td>\n",
       "    </tr>\n",
       "  </tbody>\n",
       "</table>\n",
       "<p>421 rows × 12 columns</p>\n",
       "</div>"
      ],
      "text/plain": [
       "                                               Product       MRP Company  \\\n",
       "0    Lenovo IdeaPad 3 Core i3 11th Gen - (8 GB/256 ...   36990.0  Lenovo   \n",
       "1    Lenovo IdeaPad 3 Core i3 11th Gen - (8 GB/512 ...   39990.0  Lenovo   \n",
       "2    ASUS VivoBook 15 (2022) Core i3 10th Gen - (8 ...   32990.0    ASUS   \n",
       "3    HP Pavilion Ryzen 5 Hexa Core AMD R5-5600H - (...   49990.0      HP   \n",
       "4    ASUS TUF Gaming F15 Core i5 10th Gen - (8 GB/5...   49990.0    ASUS   \n",
       "..                                                 ...       ...     ...   \n",
       "713  DELL Core i5 12th Gen - (16 GB/512 GB SSD/Wind...   76590.0    DELL   \n",
       "714  HP Pavilion Ryzen 7 Octa Core AMD R7-5800H - (...   90000.0      HP   \n",
       "715  ASUS Chromebook Flip Touch Celeron Dual Core -...   23490.0    ASUS   \n",
       "718  ASUS Zenbook Flip 14 OLED (2022) Touch Panel C...  125990.0    ASUS   \n",
       "719  Lenovo Ideapad Slim 3i Core i5 10th Gen - (8 G...   50990.0  Lenovo   \n",
       "\n",
       "     OS_Type Processor_Brand           Processor_Type  RAM_Size RAM_Gen  \\\n",
       "0    Windows           Intel            Intel Core i3         8    DDR4   \n",
       "1    Windows           Intel            Intel Core i3         8    DDR4   \n",
       "2    Windows           Intel            Intel Core i3         8    DDR4   \n",
       "3    Windows             AMD    AMD Ryzen 5 Hexa Core         8    DDR4   \n",
       "4    Windows           Intel            Intel Core i5         8    DDR4   \n",
       "..       ...             ...                      ...       ...     ...   \n",
       "713  Windows           Intel            Intel Core i5        16    DDR5   \n",
       "714  Windows             AMD    AMD Ryzen 7 Octa Core        16    DDR4   \n",
       "715  Windows           Intel  Intel Celeron Dual Core         4  LPDDR4   \n",
       "718  Windows           Intel            Intel Core i7        16  LPDDR5   \n",
       "719  Windows           Intel            Intel Core i5         8    DDR4   \n",
       "\n",
       "     Storage_Size Storage_type  Display(inches)  Warranty  \n",
       "0           256.0          SSD             14.0         2  \n",
       "1           512.0          SSD             15.6         2  \n",
       "2           512.0          SSD             15.6         1  \n",
       "3           512.0          SSD             15.6         1  \n",
       "4           512.0          SSD             15.6         1  \n",
       "..            ...          ...              ...       ...  \n",
       "713         512.0          SSD              NaN         1  \n",
       "714         512.0          SSD             15.6         1  \n",
       "715           NaN          HDD             11.6         1  \n",
       "718         512.0          SSD             14.0         1  \n",
       "719         256.0          SSD             15.6         1  \n",
       "\n",
       "[421 rows x 12 columns]"
      ]
     },
     "execution_count": 49,
     "metadata": {},
     "output_type": "execute_result"
    }
   ],
   "source": [
    "df"
   ]
  },
  {
   "cell_type": "markdown",
   "id": "416d8fdc",
   "metadata": {},
   "source": [
    "## EDA"
   ]
  },
  {
   "cell_type": "code",
   "execution_count": 50,
   "id": "ec989ac7",
   "metadata": {},
   "outputs": [
    {
     "data": {
      "text/plain": [
       "<Figure size 20000x20000 with 0 Axes>"
      ]
     },
     "execution_count": 50,
     "metadata": {},
     "output_type": "execute_result"
    },
    {
     "data": {
      "image/png": "[encoded data removed]",
      "text/plain": [
       "<Figure size 640x480 with 1 Axes>"
      ]
     },
     "metadata": {},
     "output_type": "display_data"
    },
    {
     "data": {
      "text/plain": [
       "<Figure size 20000x20000 with 0 Axes>"
      ]
     },
     "metadata": {},
     "output_type": "display_data"
    }
   ],
   "source": [
    "import matplotlib.pyplot as plt\n",
    "grouped_data = df.groupby('Company')['MRP'].mean().reset_index()\n",
    "plt.barh(grouped_data['Company'], grouped_data['MRP'])\n",
    "plt.figure(figsize=(200, 200))"
   ]
  },
  {
   "cell_type": "code",
   "execution_count": 51,
   "id": "47c082f5",
   "metadata": {},
   "outputs": [
    {
     "name": "stdout",
     "output_type": "stream",
     "text": [
      "MRP\n",
      "Minimum : 14990.0\n",
      "Maximum : 434830.0\n",
      "Mean : 81363.63\n",
      "Median : 61490.0\n",
      "Standard Deviation : 62584.1640625\n"
     ]
    }
   ],
   "source": [
    "print(\"MRP\")\n",
    "print(\"Minimum :\", df['MRP'].min())\n",
    "print(\"Maximum :\", df['MRP'].max())\n",
    "print(\"Mean :\", df['MRP'].mean())\n",
    "print(\"Median :\", df['MRP'].median())\n",
    "print(\"Standard Deviation :\", df['MRP'].std())"
   ]
  },
  {
   "cell_type": "code",
   "execution_count": 52,
   "id": "d1a97fac",
   "metadata": {},
   "outputs": [
    {
     "data": {
      "text/plain": [
       "<Axes: >"
      ]
     },
     "execution_count": 52,
     "metadata": {},
     "output_type": "execute_result"
    },
    {
     "data": {
      "image/png": "[encoded data removed]",
      "text/plain": [
       "<Figure size 640x480 with 1 Axes>"
      ]
     },
     "metadata": {},
     "output_type": "display_data"
    }
   ],
   "source": [
    "df['MRP'].plot(kind='box')"
   ]
  },
  {
   "cell_type": "code",
   "execution_count": 53,
   "id": "d720fd3f",
   "metadata": {},
   "outputs": [
    {
     "data": {
      "text/plain": [
       "<Axes: xlabel='count', ylabel='RAM_Size'>"
      ]
     },
     "execution_count": 53,
     "metadata": {},
     "output_type": "execute_result"
    },
    {
     "data": {
      "image/png": "[encoded data removed]",
      "text/plain": [
       "<Figure size 640x480 with 1 Axes>"
      ]
     },
     "metadata": {},
     "output_type": "display_data"
    }
   ],
   "source": [
    "sns.countplot( y = \"RAM_Size\" , data = df)\n"
   ]
  },
  {
   "cell_type": "code",
   "execution_count": 54,
   "id": "c8b91800",
   "metadata": {},
   "outputs": [
    {
     "data": {
      "text/plain": [
       "Text(0.5, 1.0, 'RAM Size vs MRP')"
      ]
     },
     "execution_count": 54,
     "metadata": {},
     "output_type": "execute_result"
    },
    {
     "data": {
      "image/png": "[encoded data removed]",
      "text/plain": [
       "<Figure size 640x480 with 1 Axes>"
      ]
     },
     "metadata": {},
     "output_type": "display_data"
    }
   ],
   "source": [
    "plt.scatter(df[\"RAM_Size\"], df[\"MRP\"], label=\"RAM Size vs MRP \", color=\"blue\")\n",
    "\n",
    "# Add labels and title to the plot\n",
    "plt.xlabel(\"RAM_Size\")\n",
    "plt.ylabel(\"MRP\")\n",
    "plt.title(\"RAM Size vs MRP\")\n",
    "\n"
   ]
  },
  {
   "cell_type": "markdown",
   "id": "f522f069",
   "metadata": {},
   "source": [
    "Observation: Greater the RAM_Size, more is the price"
   ]
  },
  {
   "cell_type": "code",
   "execution_count": 55,
   "id": "6742109c",
   "metadata": {},
   "outputs": [
    {
     "data": {
      "text/plain": [
       "<Figure size 20000x20000 with 0 Axes>"
      ]
     },
     "execution_count": 55,
     "metadata": {},
     "output_type": "execute_result"
    },
    {
     "data": {
      "image/png": "[encoded data removed]",
      "text/plain": [
       "<Figure size 640x480 with 1 Axes>"
      ]
     },
     "metadata": {},
     "output_type": "display_data"
    },
    {
     "data": {
      "text/plain": [
       "<Figure size 20000x20000 with 0 Axes>"
      ]
     },
     "metadata": {},
     "output_type": "display_data"
    }
   ],
   "source": [
    "grouped_data = df.groupby('RAM_Gen')['MRP'].mean().reset_index()\n",
    "plt.barh(grouped_data['RAM_Gen'], grouped_data['MRP'])\n",
    "plt.figure(figsize=(200, 200))\n"
   ]
  },
  {
   "cell_type": "code",
   "execution_count": 56,
   "id": "8e271975",
   "metadata": {},
   "outputs": [
    {
     "data": {
      "text/plain": [
       "<Figure size 20000x20000 with 0 Axes>"
      ]
     },
     "execution_count": 56,
     "metadata": {},
     "output_type": "execute_result"
    },
    {
     "data": {
      "image/png": "[encoded data removed]",
      "text/plain": [
       "<Figure size 640x480 with 1 Axes>"
      ]
     },
     "metadata": {},
     "output_type": "display_data"
    },
    {
     "data": {
      "text/plain": [
       "<Figure size 20000x20000 with 0 Axes>"
      ]
     },
     "metadata": {},
     "output_type": "display_data"
    }
   ],
   "source": [
    "grouped_data = df.groupby('Processor_Brand')['MRP'].mean().reset_index()\n",
    "plt.barh(grouped_data['Processor_Brand'], grouped_data['MRP'])\n",
    "plt.figure(figsize=(200, 200))"
   ]
  },
  {
   "cell_type": "markdown",
   "id": "0320ede1",
   "metadata": {},
   "source": [
    "Observation: Apple is the costliest processor"
   ]
  },
  {
   "cell_type": "code",
   "execution_count": 57,
   "id": "cd0177e7",
   "metadata": {},
   "outputs": [
    {
     "data": {
      "text/plain": [
       "Text(0.5, 1.0, 'Storage_Size VS MRP')"
      ]
     },
     "execution_count": 57,
     "metadata": {},
     "output_type": "execute_result"
    },
    {
     "data": {
      "image/png": "[encoded data removed]",
      "text/plain": [
       "<Figure size 640x480 with 1 Axes>"
      ]
     },
     "metadata": {},
     "output_type": "display_data"
    }
   ],
   "source": [
    "sns.barplot(x='Storage_Size', y ='MRP', data=df)\n",
    "plt.title(\"Storage_Size VS MRP\")"
   ]
  },
  {
   "cell_type": "code",
   "execution_count": 58,
   "id": "31dc8a06",
   "metadata": {},
   "outputs": [
    {
     "data": {
      "text/plain": [
       "Text(0.5, 1.0, 'Display(inches) VS MRP')"
      ]
     },
     "execution_count": 58,
     "metadata": {},
     "output_type": "execute_result"
    },
    {
     "data": {
      "image/png": "[encoded data removed]",
      "text/plain": [
       "<Figure size 640x480 with 1 Axes>"
      ]
     },
     "metadata": {},
     "output_type": "display_data"
    }
   ],
   "source": [
    "sns.barplot(x='Display(inches)', y ='MRP', data=df)\n",
    "plt.title(\"Display(inches) VS MRP\")"
   ]
  },
  {
   "cell_type": "code",
   "execution_count": 59,
   "id": "1ec43999",
   "metadata": {},
   "outputs": [],
   "source": [
    "# Observation: Display column is not giving accurate information"
   ]
  },
  {
   "cell_type": "code",
   "execution_count": 60,
   "id": "e5037cf0",
   "metadata": {},
   "outputs": [
    {
     "data": {
      "text/plain": [
       "<Figure size 20000x20000 with 0 Axes>"
      ]
     },
     "execution_count": 60,
     "metadata": {},
     "output_type": "execute_result"
    },
    {
     "data": {
      "image/png": "[encoded data removed]",
      "text/plain": [
       "<Figure size 640x480 with 1 Axes>"
      ]
     },
     "metadata": {},
     "output_type": "display_data"
    },
    {
     "data": {
      "text/plain": [
       "<Figure size 20000x20000 with 0 Axes>"
      ]
     },
     "metadata": {},
     "output_type": "display_data"
    }
   ],
   "source": [
    "grouped_data = df.groupby('Processor_Type')['MRP'].mean().reset_index()\n",
    "plt.barh(grouped_data['Processor_Type'], grouped_data['MRP'])\n",
    "plt.figure(figsize=(200, 200))"
   ]
  },
  {
   "cell_type": "code",
   "execution_count": 61,
   "id": "ece1da17",
   "metadata": {},
   "outputs": [],
   "source": [
    "df_new = df[['Company','Processor_Brand','RAM_Size','RAM_Gen','Storage_Size','Storage_type','OS_Type','MRP']]"
   ]
  },
  {
   "cell_type": "code",
   "execution_count": 62,
   "id": "17b69c8e",
   "metadata": {},
   "outputs": [
    {
     "name": "stderr",
     "output_type": "stream",
     "text": [
      "C:\\Users\\Deekshitha\\AppData\\Local\\Temp\\ipykernel_11692\\1206297835.py:2: FutureWarning: The default value of numeric_only in DataFrame.corr is deprecated. In a future version, it will default to False. Select only valid columns or specify the value of numeric_only to silence this warning.\n",
      "  sns.heatmap(df_new.corr(), cmap=\"Greens\" , annot= True)\n"
     ]
    },
    {
     "data": {
      "text/plain": [
       "<Axes: >"
      ]
     },
     "execution_count": 62,
     "metadata": {},
     "output_type": "execute_result"
    },
    {
     "data": {
      "image/png": "[encoded data removed]",
      "text/plain": [
       "<Figure size 1300x1000 with 2 Axes>"
      ]
     },
     "metadata": {},
     "output_type": "display_data"
    }
   ],
   "source": [
    "plt.figure(figsize = (13,10))\n",
    "sns.heatmap(df_new.corr(), cmap=\"Greens\" , annot= True)\n"
   ]
  },
  {
   "cell_type": "markdown",
   "id": "3addfab4",
   "metadata": {},
   "source": [
    "Observation : RAM_Size is more related to MRP"
   ]
  },
  {
   "cell_type": "code",
   "execution_count": 63,
   "id": "087c8d9f",
   "metadata": {},
   "outputs": [
    {
     "data": {
      "text/html": [
       "<div>\n",
       "<style scoped>\n",
       "    .dataframe tbody tr th:only-of-type {\n",
       "        vertical-align: middle;\n",
       "    }\n",
       "\n",
       "    .dataframe tbody tr th {\n",
       "        vertical-align: top;\n",
       "    }\n",
       "\n",
       "    .dataframe thead th {\n",
       "        text-align: right;\n",
       "    }\n",
       "</style>\n",
       "<table border=\"1\" class=\"dataframe\">\n",
       "  <thead>\n",
       "    <tr style=\"text-align: right;\">\n",
       "      <th></th>\n",
       "      <th>Company</th>\n",
       "      <th>Processor_Brand</th>\n",
       "      <th>RAM_Size</th>\n",
       "      <th>RAM_Gen</th>\n",
       "      <th>Storage_Size</th>\n",
       "      <th>Storage_type</th>\n",
       "      <th>OS_Type</th>\n",
       "      <th>MRP</th>\n",
       "    </tr>\n",
       "  </thead>\n",
       "  <tbody>\n",
       "    <tr>\n",
       "      <th>0</th>\n",
       "      <td>Lenovo</td>\n",
       "      <td>Intel</td>\n",
       "      <td>8</td>\n",
       "      <td>DDR4</td>\n",
       "      <td>256.0</td>\n",
       "      <td>SSD</td>\n",
       "      <td>Windows</td>\n",
       "      <td>36990.0</td>\n",
       "    </tr>\n",
       "    <tr>\n",
       "      <th>1</th>\n",
       "      <td>Lenovo</td>\n",
       "      <td>Intel</td>\n",
       "      <td>8</td>\n",
       "      <td>DDR4</td>\n",
       "      <td>512.0</td>\n",
       "      <td>SSD</td>\n",
       "      <td>Windows</td>\n",
       "      <td>39990.0</td>\n",
       "    </tr>\n",
       "    <tr>\n",
       "      <th>2</th>\n",
       "      <td>ASUS</td>\n",
       "      <td>Intel</td>\n",
       "      <td>8</td>\n",
       "      <td>DDR4</td>\n",
       "      <td>512.0</td>\n",
       "      <td>SSD</td>\n",
       "      <td>Windows</td>\n",
       "      <td>32990.0</td>\n",
       "    </tr>\n",
       "    <tr>\n",
       "      <th>3</th>\n",
       "      <td>HP</td>\n",
       "      <td>AMD</td>\n",
       "      <td>8</td>\n",
       "      <td>DDR4</td>\n",
       "      <td>512.0</td>\n",
       "      <td>SSD</td>\n",
       "      <td>Windows</td>\n",
       "      <td>49990.0</td>\n",
       "    </tr>\n",
       "    <tr>\n",
       "      <th>4</th>\n",
       "      <td>ASUS</td>\n",
       "      <td>Intel</td>\n",
       "      <td>8</td>\n",
       "      <td>DDR4</td>\n",
       "      <td>512.0</td>\n",
       "      <td>SSD</td>\n",
       "      <td>Windows</td>\n",
       "      <td>49990.0</td>\n",
       "    </tr>\n",
       "  </tbody>\n",
       "</table>\n",
       "</div>"
      ],
      "text/plain": [
       "  Company Processor_Brand  RAM_Size RAM_Gen  Storage_Size Storage_type  \\\n",
       "0  Lenovo           Intel         8    DDR4         256.0          SSD   \n",
       "1  Lenovo           Intel         8    DDR4         512.0          SSD   \n",
       "2    ASUS           Intel         8    DDR4         512.0          SSD   \n",
       "3      HP             AMD         8    DDR4         512.0          SSD   \n",
       "4    ASUS           Intel         8    DDR4         512.0          SSD   \n",
       "\n",
       "   OS_Type      MRP  \n",
       "0  Windows  36990.0  \n",
       "1  Windows  39990.0  \n",
       "2  Windows  32990.0  \n",
       "3  Windows  49990.0  \n",
       "4  Windows  49990.0  "
      ]
     },
     "execution_count": 63,
     "metadata": {},
     "output_type": "execute_result"
    }
   ],
   "source": [
    "df_new.head()"
   ]
  },
  {
   "cell_type": "code",
   "execution_count": 64,
   "id": "ea90458a",
   "metadata": {},
   "outputs": [
    {
     "data": {
      "text/plain": [
       "Company            0.000000\n",
       "Processor_Brand    7.125891\n",
       "RAM_Size           0.000000\n",
       "RAM_Gen            3.087886\n",
       "Storage_Size       5.463183\n",
       "Storage_type       0.000000\n",
       "OS_Type            0.000000\n",
       "MRP                0.000000\n",
       "dtype: float64"
      ]
     },
     "execution_count": 64,
     "metadata": {},
     "output_type": "execute_result"
    }
   ],
   "source": [
    "missing_percentage = (df_new.isnull().sum() / len(df)) * 100\n",
    "missing_percentage"
   ]
  },
  {
   "cell_type": "code",
   "execution_count": 65,
   "id": "015dfe4a",
   "metadata": {},
   "outputs": [
    {
     "data": {
      "text/html": [
       "<div>\n",
       "<style scoped>\n",
       "    .dataframe tbody tr th:only-of-type {\n",
       "        vertical-align: middle;\n",
       "    }\n",
       "\n",
       "    .dataframe tbody tr th {\n",
       "        vertical-align: top;\n",
       "    }\n",
       "\n",
       "    .dataframe thead th {\n",
       "        text-align: right;\n",
       "    }\n",
       "</style>\n",
       "<table border=\"1\" class=\"dataframe\">\n",
       "  <thead>\n",
       "    <tr style=\"text-align: right;\">\n",
       "      <th></th>\n",
       "      <th>Processor_Brand</th>\n",
       "      <th>RAM_Gen</th>\n",
       "      <th>Storage_Size</th>\n",
       "    </tr>\n",
       "  </thead>\n",
       "  <tbody>\n",
       "    <tr>\n",
       "      <th>0</th>\n",
       "      <td>Intel</td>\n",
       "      <td>DDR4</td>\n",
       "      <td>512.0</td>\n",
       "    </tr>\n",
       "  </tbody>\n",
       "</table>\n",
       "</div>"
      ],
      "text/plain": [
       "  Processor_Brand RAM_Gen  Storage_Size\n",
       "0           Intel    DDR4         512.0"
      ]
     },
     "execution_count": 65,
     "metadata": {},
     "output_type": "execute_result"
    }
   ],
   "source": [
    "df_new[['Processor_Brand','RAM_Gen','Storage_Size']].mode()"
   ]
  },
  {
   "cell_type": "code",
   "execution_count": 66,
   "id": "c85ed137",
   "metadata": {},
   "outputs": [
    {
     "name": "stderr",
     "output_type": "stream",
     "text": [
      "C:\\Users\\Deekshitha\\AppData\\Local\\Temp\\ipykernel_11692\\1868886109.py:1: SettingWithCopyWarning: \n",
      "A value is trying to be set on a copy of a slice from a DataFrame\n",
      "\n",
      "See the caveats in the documentation: https://pandas.pydata.org/pandas-docs/stable/user_guide/indexing.html#returning-a-view-versus-a-copy\n",
      "  df_new['Processor_Brand'].fillna(df_new['Processor_Brand'].mode()[0], inplace=True)\n",
      "C:\\Users\\Deekshitha\\AppData\\Local\\Temp\\ipykernel_11692\\1868886109.py:2: SettingWithCopyWarning: \n",
      "A value is trying to be set on a copy of a slice from a DataFrame\n",
      "\n",
      "See the caveats in the documentation: https://pandas.pydata.org/pandas-docs/stable/user_guide/indexing.html#returning-a-view-versus-a-copy\n",
      "  df_new['RAM_Gen'].fillna(df_new['RAM_Gen'].mode()[0], inplace=True)\n",
      "C:\\Users\\Deekshitha\\AppData\\Local\\Temp\\ipykernel_11692\\1868886109.py:3: SettingWithCopyWarning: \n",
      "A value is trying to be set on a copy of a slice from a DataFrame\n",
      "\n",
      "See the caveats in the documentation: https://pandas.pydata.org/pandas-docs/stable/user_guide/indexing.html#returning-a-view-versus-a-copy\n",
      "  df_new['Storage_Size'].fillna(df_new['Storage_Size'].mode()[0], inplace=True)\n"
     ]
    }
   ],
   "source": [
    "df_new['Processor_Brand'].fillna(df_new['Processor_Brand'].mode()[0], inplace=True)\n",
    "df_new['RAM_Gen'].fillna(df_new['RAM_Gen'].mode()[0], inplace=True)\n",
    "df_new['Storage_Size'].fillna(df_new['Storage_Size'].mode()[0], inplace=True)"
   ]
  },
  {
   "cell_type": "code",
   "execution_count": 67,
   "id": "a4c8a34f",
   "metadata": {},
   "outputs": [
    {
     "data": {
      "text/plain": [
       "Company            0.0\n",
       "Processor_Brand    0.0\n",
       "RAM_Size           0.0\n",
       "RAM_Gen            0.0\n",
       "Storage_Size       0.0\n",
       "Storage_type       0.0\n",
       "OS_Type            0.0\n",
       "MRP                0.0\n",
       "dtype: float64"
      ]
     },
     "execution_count": 67,
     "metadata": {},
     "output_type": "execute_result"
    }
   ],
   "source": [
    "missing_percentage = (df_new.isnull().sum() / len(df)) * 100\n",
    "missing_percentage"
   ]
  },
  {
   "cell_type": "markdown",
   "id": "d21f3542",
   "metadata": {},
   "source": [
    "## Splitting the data"
   ]
  },
  {
   "cell_type": "code",
   "execution_count": 68,
   "id": "536f3bad",
   "metadata": {},
   "outputs": [],
   "source": [
    "from sklearn.model_selection import train_test_split\n",
    "X_train, X_test, y_train, y_test = train_test_split(df_new.iloc[:,0:7],df_new.iloc[:,-1], test_size=0.25,random_state=10)"
   ]
  },
  {
   "cell_type": "code",
   "execution_count": 69,
   "id": "544f5a4c",
   "metadata": {},
   "outputs": [
    {
     "name": "stdout",
     "output_type": "stream",
     "text": [
      "Shape of X_train (315, 7)\n",
      "Shape of X_test (106, 7)\n",
      "Shape of y_train (315,)\n",
      "Shape of y_test (106,)\n"
     ]
    }
   ],
   "source": [
    "print(\"Shape of X_train\" ,X_train.shape)\n",
    "print(\"Shape of X_test\" ,X_test.shape)\n",
    "print(\"Shape of y_train\",y_train.shape)\n",
    "print(\"Shape of y_test\",y_test.shape)"
   ]
  },
  {
   "cell_type": "markdown",
   "id": "8f0815a0",
   "metadata": {},
   "source": [
    "## Categorical Columns"
   ]
  },
  {
   "cell_type": "code",
   "execution_count": 70,
   "id": "4762a332",
   "metadata": {},
   "outputs": [],
   "source": [
    "##Label Encoding\n",
    "from sklearn.preprocessing import LabelEncoder\n",
    "le = LabelEncoder()"
   ]
  },
  {
   "cell_type": "code",
   "execution_count": 71,
   "id": "aafa8f32",
   "metadata": {},
   "outputs": [],
   "source": [
    "X_train['Company'] = le.fit_transform(X_train['Company'])\n",
    "X_test['Company'] = le.transform(X_test['Company'])\n",
    "\n",
    "X_train['Processor_Brand'] = le.fit_transform(X_train['Processor_Brand'])\n",
    "X_test['Processor_Brand'] = le.transform(X_test['Processor_Brand'])\n",
    "\n",
    "X_train['RAM_Gen'] = le.fit_transform(X_train['RAM_Gen'])\n",
    "X_test['RAM_Gen'] = le.transform(X_test['RAM_Gen'])\n",
    "\n",
    "X_train['Storage_type'] = le.fit_transform(X_train['Storage_type'])\n",
    "X_test['Storage_type'] = le.transform(X_test['Storage_type'])\n",
    "\n",
    "X_train['OS_Type'] = le.fit_transform(X_train['OS_Type'])\n",
    "X_test['OS_Type'] = le.transform(X_test['OS_Type'])"
   ]
  },
  {
   "cell_type": "code",
   "execution_count": 72,
   "id": "ec125170",
   "metadata": {},
   "outputs": [
    {
     "data": {
      "text/html": [
       "<div>\n",
       "<style scoped>\n",
       "    .dataframe tbody tr th:only-of-type {\n",
       "        vertical-align: middle;\n",
       "    }\n",
       "\n",
       "    .dataframe tbody tr th {\n",
       "        vertical-align: top;\n",
       "    }\n",
       "\n",
       "    .dataframe thead th {\n",
       "        text-align: right;\n",
       "    }\n",
       "</style>\n",
       "<table border=\"1\" class=\"dataframe\">\n",
       "  <thead>\n",
       "    <tr style=\"text-align: right;\">\n",
       "      <th></th>\n",
       "      <th>Company</th>\n",
       "      <th>Processor_Brand</th>\n",
       "      <th>RAM_Size</th>\n",
       "      <th>RAM_Gen</th>\n",
       "      <th>Storage_Size</th>\n",
       "      <th>Storage_type</th>\n",
       "      <th>OS_Type</th>\n",
       "    </tr>\n",
       "  </thead>\n",
       "  <tbody>\n",
       "    <tr>\n",
       "      <th>128</th>\n",
       "      <td>2</td>\n",
       "      <td>2</td>\n",
       "      <td>8</td>\n",
       "      <td>0</td>\n",
       "      <td>512.0</td>\n",
       "      <td>1</td>\n",
       "      <td>1</td>\n",
       "    </tr>\n",
       "    <tr>\n",
       "      <th>94</th>\n",
       "      <td>3</td>\n",
       "      <td>2</td>\n",
       "      <td>8</td>\n",
       "      <td>0</td>\n",
       "      <td>256.0</td>\n",
       "      <td>1</td>\n",
       "      <td>1</td>\n",
       "    </tr>\n",
       "    <tr>\n",
       "      <th>213</th>\n",
       "      <td>3</td>\n",
       "      <td>2</td>\n",
       "      <td>8</td>\n",
       "      <td>0</td>\n",
       "      <td>512.0</td>\n",
       "      <td>1</td>\n",
       "      <td>1</td>\n",
       "    </tr>\n",
       "    <tr>\n",
       "      <th>689</th>\n",
       "      <td>0</td>\n",
       "      <td>2</td>\n",
       "      <td>16</td>\n",
       "      <td>0</td>\n",
       "      <td>512.0</td>\n",
       "      <td>1</td>\n",
       "      <td>1</td>\n",
       "    </tr>\n",
       "    <tr>\n",
       "      <th>10</th>\n",
       "      <td>5</td>\n",
       "      <td>0</td>\n",
       "      <td>8</td>\n",
       "      <td>0</td>\n",
       "      <td>512.0</td>\n",
       "      <td>1</td>\n",
       "      <td>1</td>\n",
       "    </tr>\n",
       "    <tr>\n",
       "      <th>...</th>\n",
       "      <td>...</td>\n",
       "      <td>...</td>\n",
       "      <td>...</td>\n",
       "      <td>...</td>\n",
       "      <td>...</td>\n",
       "      <td>...</td>\n",
       "      <td>...</td>\n",
       "    </tr>\n",
       "    <tr>\n",
       "      <th>628</th>\n",
       "      <td>0</td>\n",
       "      <td>2</td>\n",
       "      <td>32</td>\n",
       "      <td>0</td>\n",
       "      <td>1.0</td>\n",
       "      <td>1</td>\n",
       "      <td>1</td>\n",
       "    </tr>\n",
       "    <tr>\n",
       "      <th>534</th>\n",
       "      <td>14</td>\n",
       "      <td>2</td>\n",
       "      <td>16</td>\n",
       "      <td>1</td>\n",
       "      <td>1.0</td>\n",
       "      <td>1</td>\n",
       "      <td>1</td>\n",
       "    </tr>\n",
       "    <tr>\n",
       "      <th>15</th>\n",
       "      <td>2</td>\n",
       "      <td>0</td>\n",
       "      <td>16</td>\n",
       "      <td>1</td>\n",
       "      <td>1.0</td>\n",
       "      <td>1</td>\n",
       "      <td>1</td>\n",
       "    </tr>\n",
       "    <tr>\n",
       "      <th>184</th>\n",
       "      <td>8</td>\n",
       "      <td>2</td>\n",
       "      <td>16</td>\n",
       "      <td>0</td>\n",
       "      <td>512.0</td>\n",
       "      <td>1</td>\n",
       "      <td>1</td>\n",
       "    </tr>\n",
       "    <tr>\n",
       "      <th>429</th>\n",
       "      <td>5</td>\n",
       "      <td>0</td>\n",
       "      <td>8</td>\n",
       "      <td>0</td>\n",
       "      <td>512.0</td>\n",
       "      <td>1</td>\n",
       "      <td>1</td>\n",
       "    </tr>\n",
       "  </tbody>\n",
       "</table>\n",
       "<p>315 rows × 7 columns</p>\n",
       "</div>"
      ],
      "text/plain": [
       "     Company  Processor_Brand  RAM_Size  RAM_Gen  Storage_Size  Storage_type  \\\n",
       "128        2                2         8        0         512.0             1   \n",
       "94         3                2         8        0         256.0             1   \n",
       "213        3                2         8        0         512.0             1   \n",
       "689        0                2        16        0         512.0             1   \n",
       "10         5                0         8        0         512.0             1   \n",
       "..       ...              ...       ...      ...           ...           ...   \n",
       "628        0                2        32        0           1.0             1   \n",
       "534       14                2        16        1           1.0             1   \n",
       "15         2                0        16        1           1.0             1   \n",
       "184        8                2        16        0         512.0             1   \n",
       "429        5                0         8        0         512.0             1   \n",
       "\n",
       "     OS_Type  \n",
       "128        1  \n",
       "94         1  \n",
       "213        1  \n",
       "689        1  \n",
       "10         1  \n",
       "..       ...  \n",
       "628        1  \n",
       "534        1  \n",
       "15         1  \n",
       "184        1  \n",
       "429        1  \n",
       "\n",
       "[315 rows x 7 columns]"
      ]
     },
     "execution_count": 72,
     "metadata": {},
     "output_type": "execute_result"
    }
   ],
   "source": [
    "X_train"
   ]
  },
  {
   "cell_type": "markdown",
   "id": "0a9f570f",
   "metadata": {},
   "source": [
    "## Numerical Columns"
   ]
  },
  {
   "cell_type": "code",
   "execution_count": 73,
   "id": "91509bd1",
   "metadata": {},
   "outputs": [],
   "source": [
    "from sklearn.preprocessing import MinMaxScaler\n",
    "sc = MinMaxScaler()"
   ]
  },
  {
   "cell_type": "code",
   "execution_count": 74,
   "id": "3e555c83",
   "metadata": {},
   "outputs": [],
   "source": [
    "X_train[['RAM_Size','Storage_Size']] = sc.fit_transform(X_train[['RAM_Size','Storage_Size']])\n",
    "X_test[['RAM_Size','Storage_Size']] = sc.transform(X_test[['RAM_Size','Storage_Size']])"
   ]
  },
  {
   "cell_type": "code",
   "execution_count": 75,
   "id": "b805443d",
   "metadata": {},
   "outputs": [
    {
     "data": {
      "text/html": [
       "<div>\n",
       "<style scoped>\n",
       "    .dataframe tbody tr th:only-of-type {\n",
       "        vertical-align: middle;\n",
       "    }\n",
       "\n",
       "    .dataframe tbody tr th {\n",
       "        vertical-align: top;\n",
       "    }\n",
       "\n",
       "    .dataframe thead th {\n",
       "        text-align: right;\n",
       "    }\n",
       "</style>\n",
       "<table border=\"1\" class=\"dataframe\">\n",
       "  <thead>\n",
       "    <tr style=\"text-align: right;\">\n",
       "      <th></th>\n",
       "      <th>Company</th>\n",
       "      <th>Processor_Brand</th>\n",
       "      <th>RAM_Size</th>\n",
       "      <th>RAM_Gen</th>\n",
       "      <th>Storage_Size</th>\n",
       "      <th>Storage_type</th>\n",
       "      <th>OS_Type</th>\n",
       "    </tr>\n",
       "  </thead>\n",
       "  <tbody>\n",
       "    <tr>\n",
       "      <th>128</th>\n",
       "      <td>2</td>\n",
       "      <td>2</td>\n",
       "      <td>0.032258</td>\n",
       "      <td>0</td>\n",
       "      <td>1.000000</td>\n",
       "      <td>1</td>\n",
       "      <td>1</td>\n",
       "    </tr>\n",
       "    <tr>\n",
       "      <th>94</th>\n",
       "      <td>3</td>\n",
       "      <td>2</td>\n",
       "      <td>0.032258</td>\n",
       "      <td>0</td>\n",
       "      <td>0.499022</td>\n",
       "      <td>1</td>\n",
       "      <td>1</td>\n",
       "    </tr>\n",
       "    <tr>\n",
       "      <th>213</th>\n",
       "      <td>3</td>\n",
       "      <td>2</td>\n",
       "      <td>0.032258</td>\n",
       "      <td>0</td>\n",
       "      <td>1.000000</td>\n",
       "      <td>1</td>\n",
       "      <td>1</td>\n",
       "    </tr>\n",
       "    <tr>\n",
       "      <th>689</th>\n",
       "      <td>0</td>\n",
       "      <td>2</td>\n",
       "      <td>0.096774</td>\n",
       "      <td>0</td>\n",
       "      <td>1.000000</td>\n",
       "      <td>1</td>\n",
       "      <td>1</td>\n",
       "    </tr>\n",
       "    <tr>\n",
       "      <th>10</th>\n",
       "      <td>5</td>\n",
       "      <td>0</td>\n",
       "      <td>0.032258</td>\n",
       "      <td>0</td>\n",
       "      <td>1.000000</td>\n",
       "      <td>1</td>\n",
       "      <td>1</td>\n",
       "    </tr>\n",
       "    <tr>\n",
       "      <th>...</th>\n",
       "      <td>...</td>\n",
       "      <td>...</td>\n",
       "      <td>...</td>\n",
       "      <td>...</td>\n",
       "      <td>...</td>\n",
       "      <td>...</td>\n",
       "      <td>...</td>\n",
       "    </tr>\n",
       "    <tr>\n",
       "      <th>628</th>\n",
       "      <td>0</td>\n",
       "      <td>2</td>\n",
       "      <td>0.225806</td>\n",
       "      <td>0</td>\n",
       "      <td>0.000000</td>\n",
       "      <td>1</td>\n",
       "      <td>1</td>\n",
       "    </tr>\n",
       "    <tr>\n",
       "      <th>534</th>\n",
       "      <td>14</td>\n",
       "      <td>2</td>\n",
       "      <td>0.096774</td>\n",
       "      <td>1</td>\n",
       "      <td>0.000000</td>\n",
       "      <td>1</td>\n",
       "      <td>1</td>\n",
       "    </tr>\n",
       "    <tr>\n",
       "      <th>15</th>\n",
       "      <td>2</td>\n",
       "      <td>0</td>\n",
       "      <td>0.096774</td>\n",
       "      <td>1</td>\n",
       "      <td>0.000000</td>\n",
       "      <td>1</td>\n",
       "      <td>1</td>\n",
       "    </tr>\n",
       "    <tr>\n",
       "      <th>184</th>\n",
       "      <td>8</td>\n",
       "      <td>2</td>\n",
       "      <td>0.096774</td>\n",
       "      <td>0</td>\n",
       "      <td>1.000000</td>\n",
       "      <td>1</td>\n",
       "      <td>1</td>\n",
       "    </tr>\n",
       "    <tr>\n",
       "      <th>429</th>\n",
       "      <td>5</td>\n",
       "      <td>0</td>\n",
       "      <td>0.032258</td>\n",
       "      <td>0</td>\n",
       "      <td>1.000000</td>\n",
       "      <td>1</td>\n",
       "      <td>1</td>\n",
       "    </tr>\n",
       "  </tbody>\n",
       "</table>\n",
       "<p>315 rows × 7 columns</p>\n",
       "</div>"
      ],
      "text/plain": [
       "     Company  Processor_Brand  RAM_Size  RAM_Gen  Storage_Size  Storage_type  \\\n",
       "128        2                2  0.032258        0      1.000000             1   \n",
       "94         3                2  0.032258        0      0.499022             1   \n",
       "213        3                2  0.032258        0      1.000000             1   \n",
       "689        0                2  0.096774        0      1.000000             1   \n",
       "10         5                0  0.032258        0      1.000000             1   \n",
       "..       ...              ...       ...      ...           ...           ...   \n",
       "628        0                2  0.225806        0      0.000000             1   \n",
       "534       14                2  0.096774        1      0.000000             1   \n",
       "15         2                0  0.096774        1      0.000000             1   \n",
       "184        8                2  0.096774        0      1.000000             1   \n",
       "429        5                0  0.032258        0      1.000000             1   \n",
       "\n",
       "     OS_Type  \n",
       "128        1  \n",
       "94         1  \n",
       "213        1  \n",
       "689        1  \n",
       "10         1  \n",
       "..       ...  \n",
       "628        1  \n",
       "534        1  \n",
       "15         1  \n",
       "184        1  \n",
       "429        1  \n",
       "\n",
       "[315 rows x 7 columns]"
      ]
     },
     "execution_count": 75,
     "metadata": {},
     "output_type": "execute_result"
    }
   ],
   "source": [
    "X_train"
   ]
  },
  {
   "cell_type": "code",
   "execution_count": 76,
   "id": "dc1cfbd7",
   "metadata": {},
   "outputs": [
    {
     "data": {
      "text/plain": [
       "count    315.0\n",
       "mean       0.1\n",
       "std        0.1\n",
       "min        0.0\n",
       "25%        0.0\n",
       "50%        0.0\n",
       "75%        0.1\n",
       "max        1.0\n",
       "Name: RAM_Size, dtype: float64"
      ]
     },
     "execution_count": 76,
     "metadata": {},
     "output_type": "execute_result"
    }
   ],
   "source": [
    "np.round(X_train['RAM_Size'].describe(),1)"
   ]
  },
  {
   "cell_type": "markdown",
   "id": "03db1c67",
   "metadata": {},
   "source": [
    "### X_test"
   ]
  },
  {
   "cell_type": "code",
   "execution_count": null,
   "id": "d8df8ab1",
   "metadata": {},
   "outputs": [],
   "source": []
  },
  {
   "cell_type": "markdown",
   "id": "2dc25f4b",
   "metadata": {},
   "source": [
    "# Fitting into Models"
   ]
  },
  {
   "cell_type": "markdown",
   "id": "7833acd0",
   "metadata": {},
   "source": [
    "## Linear Regression"
   ]
  },
  {
   "cell_type": "code",
   "execution_count": 77,
   "id": "7cb6add3",
   "metadata": {},
   "outputs": [],
   "source": [
    "from sklearn.linear_model import LinearRegression\n",
    "M1 = LinearRegression()"
   ]
  },
  {
   "cell_type": "code",
   "execution_count": 78,
   "id": "b4ce9252",
   "metadata": {},
   "outputs": [],
   "source": [
    "M1 = M1.fit(X_train, y_train)"
   ]
  },
  {
   "cell_type": "code",
   "execution_count": 79,
   "id": "cd5eebbb",
   "metadata": {},
   "outputs": [],
   "source": [
    "y_pred = M1.predict(X_test)"
   ]
  },
  {
   "cell_type": "code",
   "execution_count": 80,
   "id": "49aa108e",
   "metadata": {},
   "outputs": [],
   "source": [
    "from sklearn.metrics import  r2_score,  mean_squared_error as mse\n",
    "MSE = mse (y_test, y_pred)\n",
    "RMSE = np.sqrt(MSE)\n",
    "R2 = r2_score(y_test, y_pred)"
   ]
  },
  {
   "cell_type": "code",
   "execution_count": 81,
   "id": "5fed3079",
   "metadata": {},
   "outputs": [],
   "source": [
    "evaluation = pd.DataFrame({\"Model\" : ['Linear Regression'], \"MSE\" : [MSE], 'RMSE':[RMSE] , 'R2_Score': [R2]})"
   ]
  },
  {
   "cell_type": "code",
   "execution_count": 82,
   "id": "b43ea9a2",
   "metadata": {},
   "outputs": [
    {
     "data": {
      "text/html": [
       "<div>\n",
       "<style scoped>\n",
       "    .dataframe tbody tr th:only-of-type {\n",
       "        vertical-align: middle;\n",
       "    }\n",
       "\n",
       "    .dataframe tbody tr th {\n",
       "        vertical-align: top;\n",
       "    }\n",
       "\n",
       "    .dataframe thead th {\n",
       "        text-align: right;\n",
       "    }\n",
       "</style>\n",
       "<table border=\"1\" class=\"dataframe\">\n",
       "  <thead>\n",
       "    <tr style=\"text-align: right;\">\n",
       "      <th></th>\n",
       "      <th>Model</th>\n",
       "      <th>MSE</th>\n",
       "      <th>RMSE</th>\n",
       "      <th>R2_Score</th>\n",
       "    </tr>\n",
       "  </thead>\n",
       "  <tbody>\n",
       "    <tr>\n",
       "      <th>0</th>\n",
       "      <td>Linear Regression</td>\n",
       "      <td>1.563039e+09</td>\n",
       "      <td>39535.286031</td>\n",
       "      <td>0.594086</td>\n",
       "    </tr>\n",
       "  </tbody>\n",
       "</table>\n",
       "</div>"
      ],
      "text/plain": [
       "               Model           MSE          RMSE  R2_Score\n",
       "0  Linear Regression  1.563039e+09  39535.286031  0.594086"
      ]
     },
     "execution_count": 82,
     "metadata": {},
     "output_type": "execute_result"
    }
   ],
   "source": [
    "evaluation"
   ]
  },
  {
   "cell_type": "markdown",
   "id": "7a0c0a07",
   "metadata": {},
   "source": [
    "### KNN"
   ]
  },
  {
   "cell_type": "code",
   "execution_count": 83,
   "id": "dd02bad7",
   "metadata": {},
   "outputs": [],
   "source": [
    "from sklearn.neighbors import KNeighborsRegressor\n",
    "knn = KNeighborsRegressor( n_neighbors=3 )\n",
    "knn = knn.fit(X_train,y_train)"
   ]
  },
  {
   "cell_type": "code",
   "execution_count": 84,
   "id": "b8cc1a16",
   "metadata": {},
   "outputs": [],
   "source": [
    "y_pred = knn.predict(X_test)"
   ]
  },
  {
   "cell_type": "code",
   "execution_count": 85,
   "id": "a60bd70f",
   "metadata": {},
   "outputs": [],
   "source": [
    "MSE = mse (y_test, y_pred)\n",
    "RMSE = np.sqrt(MSE)\n",
    "R2 = r2_score(y_test, y_pred)\n",
    "evaluation_knn = pd.DataFrame({\"Model\" : ['KNN'], \"MSE\" : [MSE], 'RMSE':[RMSE] , 'R2_Score': [R2]} )\n",
    "evaluation = pd.concat([evaluation, evaluation_knn])"
   ]
  },
  {
   "cell_type": "code",
   "execution_count": 86,
   "id": "54fc71cb",
   "metadata": {},
   "outputs": [
    {
     "data": {
      "text/html": [
       "<div>\n",
       "<style scoped>\n",
       "    .dataframe tbody tr th:only-of-type {\n",
       "        vertical-align: middle;\n",
       "    }\n",
       "\n",
       "    .dataframe tbody tr th {\n",
       "        vertical-align: top;\n",
       "    }\n",
       "\n",
       "    .dataframe thead th {\n",
       "        text-align: right;\n",
       "    }\n",
       "</style>\n",
       "<table border=\"1\" class=\"dataframe\">\n",
       "  <thead>\n",
       "    <tr style=\"text-align: right;\">\n",
       "      <th></th>\n",
       "      <th>Model</th>\n",
       "      <th>MSE</th>\n",
       "      <th>RMSE</th>\n",
       "      <th>R2_Score</th>\n",
       "    </tr>\n",
       "  </thead>\n",
       "  <tbody>\n",
       "    <tr>\n",
       "      <th>0</th>\n",
       "      <td>Linear Regression</td>\n",
       "      <td>1.563039e+09</td>\n",
       "      <td>39535.286031</td>\n",
       "      <td>0.594086</td>\n",
       "    </tr>\n",
       "    <tr>\n",
       "      <th>0</th>\n",
       "      <td>KNN</td>\n",
       "      <td>2.529530e+09</td>\n",
       "      <td>50294.433594</td>\n",
       "      <td>0.343092</td>\n",
       "    </tr>\n",
       "  </tbody>\n",
       "</table>\n",
       "</div>"
      ],
      "text/plain": [
       "               Model           MSE          RMSE  R2_Score\n",
       "0  Linear Regression  1.563039e+09  39535.286031  0.594086\n",
       "0                KNN  2.529530e+09  50294.433594  0.343092"
      ]
     },
     "execution_count": 86,
     "metadata": {},
     "output_type": "execute_result"
    }
   ],
   "source": [
    "evaluation"
   ]
  },
  {
   "cell_type": "markdown",
   "id": "cc6af422",
   "metadata": {},
   "source": [
    "### Decision Tree Regression"
   ]
  },
  {
   "cell_type": "code",
   "execution_count": 87,
   "id": "ae37bdf9",
   "metadata": {},
   "outputs": [],
   "source": [
    "from sklearn.tree import DecisionTreeRegressor"
   ]
  },
  {
   "cell_type": "code",
   "execution_count": 88,
   "id": "87c1c8bc",
   "metadata": {},
   "outputs": [],
   "source": [
    "dt=DecisionTreeRegressor()\n",
    "dt.fit(X_train,y_train)\n",
    "y_pred=dt.predict(X_test)"
   ]
  },
  {
   "cell_type": "code",
   "execution_count": 89,
   "id": "2ee6bf38",
   "metadata": {},
   "outputs": [],
   "source": [
    "MSE = mse(y_test, y_pred)\n",
    "RMSE = np.sqrt(MSE)\n",
    "R2 = r2_score(y_test, y_pred)\n",
    "evaluation_dec = pd.DataFrame({\"Model\" : ['Decision_Tree'], \"MSE\" : [MSE], 'RMSE':[RMSE] , 'R2_Score': [R2]} )\n",
    "evaluation = pd.concat([evaluation, evaluation_dec])"
   ]
  },
  {
   "cell_type": "code",
   "execution_count": 90,
   "id": "bf8668a9",
   "metadata": {},
   "outputs": [
    {
     "data": {
      "text/html": [
       "<div>\n",
       "<style scoped>\n",
       "    .dataframe tbody tr th:only-of-type {\n",
       "        vertical-align: middle;\n",
       "    }\n",
       "\n",
       "    .dataframe tbody tr th {\n",
       "        vertical-align: top;\n",
       "    }\n",
       "\n",
       "    .dataframe thead th {\n",
       "        text-align: right;\n",
       "    }\n",
       "</style>\n",
       "<table border=\"1\" class=\"dataframe\">\n",
       "  <thead>\n",
       "    <tr style=\"text-align: right;\">\n",
       "      <th></th>\n",
       "      <th>Model</th>\n",
       "      <th>MSE</th>\n",
       "      <th>RMSE</th>\n",
       "      <th>R2_Score</th>\n",
       "    </tr>\n",
       "  </thead>\n",
       "  <tbody>\n",
       "    <tr>\n",
       "      <th>0</th>\n",
       "      <td>Linear Regression</td>\n",
       "      <td>1.563039e+09</td>\n",
       "      <td>39535.286031</td>\n",
       "      <td>0.594086</td>\n",
       "    </tr>\n",
       "    <tr>\n",
       "      <th>0</th>\n",
       "      <td>KNN</td>\n",
       "      <td>2.529530e+09</td>\n",
       "      <td>50294.433594</td>\n",
       "      <td>0.343092</td>\n",
       "    </tr>\n",
       "    <tr>\n",
       "      <th>0</th>\n",
       "      <td>Decision_Tree</td>\n",
       "      <td>9.815141e+08</td>\n",
       "      <td>31329.125540</td>\n",
       "      <td>0.745105</td>\n",
       "    </tr>\n",
       "  </tbody>\n",
       "</table>\n",
       "</div>"
      ],
      "text/plain": [
       "               Model           MSE          RMSE  R2_Score\n",
       "0  Linear Regression  1.563039e+09  39535.286031  0.594086\n",
       "0                KNN  2.529530e+09  50294.433594  0.343092\n",
       "0      Decision_Tree  9.815141e+08  31329.125540  0.745105"
      ]
     },
     "execution_count": 90,
     "metadata": {},
     "output_type": "execute_result"
    }
   ],
   "source": [
    "evaluation"
   ]
  },
  {
   "cell_type": "markdown",
   "id": "c1b39461",
   "metadata": {},
   "source": [
    "### RandomForest Regression"
   ]
  },
  {
   "cell_type": "code",
   "execution_count": 91,
   "id": "d2dd197d",
   "metadata": {},
   "outputs": [],
   "source": [
    "from sklearn.ensemble import RandomForestRegressor"
   ]
  },
  {
   "cell_type": "code",
   "execution_count": 92,
   "id": "2e00c650",
   "metadata": {},
   "outputs": [],
   "source": [
    "rf=RandomForestRegressor(n_estimators = 10, max_depth = 12, random_state = 3)\n",
    "rf.fit(X_train,y_train)\n",
    "y_pred=rf.predict(X_test)"
   ]
  },
  {
   "cell_type": "code",
   "execution_count": 93,
   "id": "3098a4e4",
   "metadata": {},
   "outputs": [],
   "source": [
    "MSE = mse (y_test, y_pred)\n",
    "RMSE = np.sqrt(MSE)\n",
    "R2 = r2_score(y_test, y_pred)\n",
    "evaluation_ran = pd.DataFrame({\"Model\" : ['Random Forest'], \"MSE\" : [MSE], 'RMSE':[RMSE] , 'R2_Score': [R2]} )\n",
    "evaluation = pd.concat([evaluation, evaluation_ran])"
   ]
  },
  {
   "cell_type": "code",
   "execution_count": 94,
   "id": "f3b59d1d",
   "metadata": {},
   "outputs": [
    {
     "data": {
      "text/html": [
       "<div>\n",
       "<style scoped>\n",
       "    .dataframe tbody tr th:only-of-type {\n",
       "        vertical-align: middle;\n",
       "    }\n",
       "\n",
       "    .dataframe tbody tr th {\n",
       "        vertical-align: top;\n",
       "    }\n",
       "\n",
       "    .dataframe thead th {\n",
       "        text-align: right;\n",
       "    }\n",
       "</style>\n",
       "<table border=\"1\" class=\"dataframe\">\n",
       "  <thead>\n",
       "    <tr style=\"text-align: right;\">\n",
       "      <th></th>\n",
       "      <th>Model</th>\n",
       "      <th>MSE</th>\n",
       "      <th>RMSE</th>\n",
       "      <th>R2_Score</th>\n",
       "    </tr>\n",
       "  </thead>\n",
       "  <tbody>\n",
       "    <tr>\n",
       "      <th>0</th>\n",
       "      <td>Linear Regression</td>\n",
       "      <td>1.563039e+09</td>\n",
       "      <td>39535.286031</td>\n",
       "      <td>0.594086</td>\n",
       "    </tr>\n",
       "    <tr>\n",
       "      <th>0</th>\n",
       "      <td>KNN</td>\n",
       "      <td>2.529530e+09</td>\n",
       "      <td>50294.433594</td>\n",
       "      <td>0.343092</td>\n",
       "    </tr>\n",
       "    <tr>\n",
       "      <th>0</th>\n",
       "      <td>Decision_Tree</td>\n",
       "      <td>9.815141e+08</td>\n",
       "      <td>31329.125540</td>\n",
       "      <td>0.745105</td>\n",
       "    </tr>\n",
       "    <tr>\n",
       "      <th>0</th>\n",
       "      <td>Random Forest</td>\n",
       "      <td>9.160876e+08</td>\n",
       "      <td>30266.938676</td>\n",
       "      <td>0.762096</td>\n",
       "    </tr>\n",
       "  </tbody>\n",
       "</table>\n",
       "</div>"
      ],
      "text/plain": [
       "               Model           MSE          RMSE  R2_Score\n",
       "0  Linear Regression  1.563039e+09  39535.286031  0.594086\n",
       "0                KNN  2.529530e+09  50294.433594  0.343092\n",
       "0      Decision_Tree  9.815141e+08  31329.125540  0.745105\n",
       "0      Random Forest  9.160876e+08  30266.938676  0.762096"
      ]
     },
     "execution_count": 94,
     "metadata": {},
     "output_type": "execute_result"
    }
   ],
   "source": [
    "evaluation"
   ]
  },
  {
   "cell_type": "code",
   "execution_count": null,
   "id": "7389c357",
   "metadata": {},
   "outputs": [],
   "source": []
  },
  {
   "cell_type": "code",
   "execution_count": 95,
   "id": "2cdf97ec",
   "metadata": {},
   "outputs": [],
   "source": [
    "from sklearn.ensemble import AdaBoostRegressor"
   ]
  },
  {
   "cell_type": "code",
   "execution_count": 96,
   "id": "1279cca0",
   "metadata": {},
   "outputs": [],
   "source": [
    "ada_boost=AdaBoostRegressor(n_estimators=100,learning_rate=0.001,random_state=0)\n",
    "ada_boost.fit(X_train,y_train)\n",
    "y_pred=ada_boost.predict(X_test)"
   ]
  },
  {
   "cell_type": "code",
   "execution_count": 97,
   "id": "00d34e90",
   "metadata": {},
   "outputs": [],
   "source": [
    "MSE = mse (y_test, y_pred)\n",
    "RMSE = np.sqrt(MSE)\n",
    "R2 = r2_score(y_test, y_pred)\n",
    "evaluation = pd.concat([evaluation,pd.DataFrame({\"Model\" : ['ADA_Boost'], \"MSE\" : [MSE], 'RMSE':[RMSE] , 'R2_Score': [R2]} )])"
   ]
  },
  {
   "cell_type": "code",
   "execution_count": 98,
   "id": "f19b93dd",
   "metadata": {},
   "outputs": [
    {
     "data": {
      "text/html": [
       "<div>\n",
       "<style scoped>\n",
       "    .dataframe tbody tr th:only-of-type {\n",
       "        vertical-align: middle;\n",
       "    }\n",
       "\n",
       "    .dataframe tbody tr th {\n",
       "        vertical-align: top;\n",
       "    }\n",
       "\n",
       "    .dataframe thead th {\n",
       "        text-align: right;\n",
       "    }\n",
       "</style>\n",
       "<table border=\"1\" class=\"dataframe\">\n",
       "  <thead>\n",
       "    <tr style=\"text-align: right;\">\n",
       "      <th></th>\n",
       "      <th>Model</th>\n",
       "      <th>MSE</th>\n",
       "      <th>RMSE</th>\n",
       "      <th>R2_Score</th>\n",
       "    </tr>\n",
       "  </thead>\n",
       "  <tbody>\n",
       "    <tr>\n",
       "      <th>0</th>\n",
       "      <td>Linear Regression</td>\n",
       "      <td>1.563039e+09</td>\n",
       "      <td>39535.286031</td>\n",
       "      <td>0.594086</td>\n",
       "    </tr>\n",
       "    <tr>\n",
       "      <th>0</th>\n",
       "      <td>KNN</td>\n",
       "      <td>2.529530e+09</td>\n",
       "      <td>50294.433594</td>\n",
       "      <td>0.343092</td>\n",
       "    </tr>\n",
       "    <tr>\n",
       "      <th>0</th>\n",
       "      <td>Decision_Tree</td>\n",
       "      <td>9.815141e+08</td>\n",
       "      <td>31329.125540</td>\n",
       "      <td>0.745105</td>\n",
       "    </tr>\n",
       "    <tr>\n",
       "      <th>0</th>\n",
       "      <td>Random Forest</td>\n",
       "      <td>9.160876e+08</td>\n",
       "      <td>30266.938676</td>\n",
       "      <td>0.762096</td>\n",
       "    </tr>\n",
       "    <tr>\n",
       "      <th>0</th>\n",
       "      <td>ADA_Boost</td>\n",
       "      <td>8.191893e+08</td>\n",
       "      <td>28621.483768</td>\n",
       "      <td>0.787260</td>\n",
       "    </tr>\n",
       "  </tbody>\n",
       "</table>\n",
       "</div>"
      ],
      "text/plain": [
       "               Model           MSE          RMSE  R2_Score\n",
       "0  Linear Regression  1.563039e+09  39535.286031  0.594086\n",
       "0                KNN  2.529530e+09  50294.433594  0.343092\n",
       "0      Decision_Tree  9.815141e+08  31329.125540  0.745105\n",
       "0      Random Forest  9.160876e+08  30266.938676  0.762096\n",
       "0          ADA_Boost  8.191893e+08  28621.483768  0.787260"
      ]
     },
     "execution_count": 98,
     "metadata": {},
     "output_type": "execute_result"
    }
   ],
   "source": [
    "evaluation"
   ]
  },
  {
   "cell_type": "markdown",
   "id": "3c8c6208",
   "metadata": {},
   "source": [
    "### XG_Boost"
   ]
  },
  {
   "cell_type": "code",
   "execution_count": 99,
   "id": "a02ecd12",
   "metadata": {},
   "outputs": [],
   "source": [
    "from xgboost import XGBRegressor"
   ]
  },
  {
   "cell_type": "code",
   "execution_count": 100,
   "id": "e35fe07b",
   "metadata": {},
   "outputs": [],
   "source": [
    "xgb=XGBRegressor(learning_rate=0.15, n_estimators=50, max_leaves=0, random_state=98) \n",
    "xgb.fit(X_train,y_train)\n",
    "y_pred=xgb.predict(X_test)"
   ]
  },
  {
   "cell_type": "code",
   "execution_count": 101,
   "id": "0833a982",
   "metadata": {},
   "outputs": [],
   "source": [
    "MSE = mse (y_test, y_pred)\n",
    "RMSE = np.sqrt(MSE)\n",
    "R2 = r2_score(y_test, y_pred)\n",
    "evaluation = pd.concat([evaluation, pd.DataFrame({\"Model\" : ['XG_Boost'], \"MSE\" : [MSE], 'RMSE':[RMSE] , 'R2_Score': [R2]} )])"
   ]
  },
  {
   "cell_type": "code",
   "execution_count": 102,
   "id": "48bd08d5",
   "metadata": {},
   "outputs": [
    {
     "data": {
      "text/html": [
       "<div>\n",
       "<style scoped>\n",
       "    .dataframe tbody tr th:only-of-type {\n",
       "        vertical-align: middle;\n",
       "    }\n",
       "\n",
       "    .dataframe tbody tr th {\n",
       "        vertical-align: top;\n",
       "    }\n",
       "\n",
       "    .dataframe thead th {\n",
       "        text-align: right;\n",
       "    }\n",
       "</style>\n",
       "<table border=\"1\" class=\"dataframe\">\n",
       "  <thead>\n",
       "    <tr style=\"text-align: right;\">\n",
       "      <th></th>\n",
       "      <th>Model</th>\n",
       "      <th>MSE</th>\n",
       "      <th>RMSE</th>\n",
       "      <th>R2_Score</th>\n",
       "    </tr>\n",
       "  </thead>\n",
       "  <tbody>\n",
       "    <tr>\n",
       "      <th>0</th>\n",
       "      <td>Linear Regression</td>\n",
       "      <td>1.563039e+09</td>\n",
       "      <td>39535.286031</td>\n",
       "      <td>0.594086</td>\n",
       "    </tr>\n",
       "    <tr>\n",
       "      <th>0</th>\n",
       "      <td>KNN</td>\n",
       "      <td>2.529530e+09</td>\n",
       "      <td>50294.433594</td>\n",
       "      <td>0.343092</td>\n",
       "    </tr>\n",
       "    <tr>\n",
       "      <th>0</th>\n",
       "      <td>Decision_Tree</td>\n",
       "      <td>9.815141e+08</td>\n",
       "      <td>31329.125540</td>\n",
       "      <td>0.745105</td>\n",
       "    </tr>\n",
       "    <tr>\n",
       "      <th>0</th>\n",
       "      <td>Random Forest</td>\n",
       "      <td>9.160876e+08</td>\n",
       "      <td>30266.938676</td>\n",
       "      <td>0.762096</td>\n",
       "    </tr>\n",
       "    <tr>\n",
       "      <th>0</th>\n",
       "      <td>ADA_Boost</td>\n",
       "      <td>8.191893e+08</td>\n",
       "      <td>28621.483768</td>\n",
       "      <td>0.787260</td>\n",
       "    </tr>\n",
       "    <tr>\n",
       "      <th>0</th>\n",
       "      <td>XG_Boost</td>\n",
       "      <td>1.091067e+09</td>\n",
       "      <td>33031.308594</td>\n",
       "      <td>0.716655</td>\n",
       "    </tr>\n",
       "  </tbody>\n",
       "</table>\n",
       "</div>"
      ],
      "text/plain": [
       "               Model           MSE          RMSE  R2_Score\n",
       "0  Linear Regression  1.563039e+09  39535.286031  0.594086\n",
       "0                KNN  2.529530e+09  50294.433594  0.343092\n",
       "0      Decision_Tree  9.815141e+08  31329.125540  0.745105\n",
       "0      Random Forest  9.160876e+08  30266.938676  0.762096\n",
       "0          ADA_Boost  8.191893e+08  28621.483768  0.787260\n",
       "0           XG_Boost  1.091067e+09  33031.308594  0.716655"
      ]
     },
     "execution_count": 102,
     "metadata": {},
     "output_type": "execute_result"
    }
   ],
   "source": [
    "evaluation"
   ]
  },
  {
   "cell_type": "code",
   "execution_count": 103,
   "id": "abfabfad",
   "metadata": {},
   "outputs": [],
   "source": [
    "# Observation: Ada_Boost Model has lowest RMSE and Highest R2_Score\n",
    "## So this model is suitable"
   ]
  },
  {
   "cell_type": "markdown",
   "id": "723e907c",
   "metadata": {},
   "source": [
    "### K Fold Cross Validation"
   ]
  },
  {
   "cell_type": "code",
   "execution_count": 104,
   "id": "b3923e0a",
   "metadata": {},
   "outputs": [],
   "source": [
    "from sklearn.model_selection import KFold\n",
    "model=AdaBoostRegressor(n_estimators=100,learning_rate=0.001,random_state=0)\n",
    "kfold_validation = KFold(10)"
   ]
  },
  {
   "cell_type": "code",
   "execution_count": 105,
   "id": "755494b6",
   "metadata": {},
   "outputs": [],
   "source": [
    "from sklearn.model_selection import cross_val_score\n",
    "res = cross_val_score(model,X_test,y_test,cv=kfold_validation)"
   ]
  },
  {
   "cell_type": "code",
   "execution_count": 106,
   "id": "d9680624",
   "metadata": {},
   "outputs": [
    {
     "name": "stdout",
     "output_type": "stream",
     "text": [
      "[0.41586975 0.48363193 0.5806097  0.44951992 0.61923486 0.72428159\n",
      " 0.54305108 0.69360644 0.34750791 0.51747802]\n",
      "Mean result: 0.5374791197481055\n"
     ]
    }
   ],
   "source": [
    "print(res)\n",
    "print(\"Mean result:\", np.mean(res))"
   ]
  },
  {
   "cell_type": "markdown",
   "id": "55ddb7ad",
   "metadata": {},
   "source": [
    "## Real Time Prediction"
   ]
  },
  {
   "cell_type": "code",
   "execution_count": 107,
   "id": "f629185f",
   "metadata": {},
   "outputs": [],
   "source": [
    "Company = \"Lenovo\"\n",
    "Processor_Brand =  \"Intel\"\n",
    "RAM_Size = 8\n",
    "RAM_Gen = \"DDR4\"\n",
    "Storage_Size = 512.0\n",
    "Storage_type = \"SSD\"\n",
    "OS_Type = \"Windows\""
   ]
  },
  {
   "cell_type": "code",
   "execution_count": 108,
   "id": "112c3e6c",
   "metadata": {},
   "outputs": [],
   "source": [
    "d = pd.DataFrame({\"Company\" : [Company], \"Processor_Brand\" : [Processor_Brand], 'RAM_Size':[RAM_Size] , 'RAM_Gen': [RAM_Gen], 'Storage_Size': [Storage_Size], 'Storage_type': [Storage_type], 'OS_Type': [OS_Type]})"
   ]
  },
  {
   "cell_type": "code",
   "execution_count": 109,
   "id": "9cd72d01",
   "metadata": {},
   "outputs": [],
   "source": [
    "d['Company'] = le.fit_transform(d['Company'])\n",
    "\n",
    "d['Processor_Brand'] = le.fit_transform(d['Processor_Brand'])\n",
    "\n",
    "d['RAM_Gen'] = le.fit_transform(d['RAM_Gen'])\n",
    "\n",
    "d['Storage_type'] = le.fit_transform(d['Storage_type'])\n",
    "\n",
    "d['OS_Type'] = le.fit_transform(d['OS_Type'])"
   ]
  },
  {
   "cell_type": "code",
   "execution_count": 110,
   "id": "228a4c1a",
   "metadata": {},
   "outputs": [],
   "source": [
    "d[['RAM_Size','Storage_Size']] = sc.transform(d[['RAM_Size','Storage_Size']])"
   ]
  },
  {
   "cell_type": "code",
   "execution_count": 111,
   "id": "4ffc8213",
   "metadata": {},
   "outputs": [
    {
     "data": {
      "text/plain": [
       "array([122790.])"
      ]
     },
     "execution_count": 111,
     "metadata": {},
     "output_type": "execute_result"
    }
   ],
   "source": [
    "ada_boost.predict(d)"
   ]
  },
  {
   "cell_type": "markdown",
   "id": "6a7ed411",
   "metadata": {},
   "source": [
    "## Loading Scaler object in the Model"
   ]
  },
  {
   "cell_type": "code",
   "execution_count": 112,
   "id": "47eb98e5",
   "metadata": {},
   "outputs": [],
   "source": [
    "ada_boost.scaler = sc"
   ]
  },
  {
   "cell_type": "markdown",
   "id": "4c6ff080",
   "metadata": {},
   "source": [
    "# Save the model"
   ]
  },
  {
   "cell_type": "code",
   "execution_count": 113,
   "id": "74ed5721",
   "metadata": {},
   "outputs": [],
   "source": [
    "import pickle"
   ]
  },
  {
   "cell_type": "code",
   "execution_count": 114,
   "id": "3a36211d",
   "metadata": {},
   "outputs": [],
   "source": [
    "pickle.dump(ada_boost, open(\"LaptopPrice_prediction.pkl\",\"wb\"))"
   ]
  },
  {
   "cell_type": "code",
   "execution_count": 115,
   "id": "22cf2a51",
   "metadata": {},
   "outputs": [],
   "source": [
    "pickle.dump(sc, open('scaler.pkl', 'wb'))"
   ]
  }
 ],
 "metadata": {
  "kernelspec": {
   "display_name": "Python 3 (ipykernel)",
   "language": "python",
   "name": "python3"
  },
  "language_info": {
   "codemirror_mode": {
    "name": "ipython",
    "version": 3
   },
   "file_extension": ".py",
   "mimetype": "text/x-python",
   "name": "python",
   "nbconvert_exporter": "python",
   "pygments_lexer": "ipython3",
   "version": "3.10.9"
  }
 },
 "nbformat": 4,
 "nbformat_minor": 5
}
